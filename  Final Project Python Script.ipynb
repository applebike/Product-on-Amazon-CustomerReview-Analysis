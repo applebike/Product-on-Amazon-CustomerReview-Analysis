{
 "cells": [
  {
   "cell_type": "markdown",
   "metadata": {},
   "source": [
    "# Text Mining Final Project\n",
    "## Authors: Emma Kramer, Chuhan Peng, Yujie Fu, Zhoulin Zhuo\n",
    "### <font color=green> Amazon Product Data Analysis\n",
    "### <font color=blue> Objectives\n",
    "\n",
    "1. Help the company understand customers' preferences\n",
    "2. Use the keywords in product description to encourage the customers to buy the game\n",
    "3. Evaluate the sentiment of customers, so that businesses can improve customer satisfaction\n",
    "\n",
    "### <font color=blue> Methodology\n",
    "\n",
    "1. Text Data Pre-Processing\n",
    "2. Topic Modeling\n",
    "3. Sentiment Analysis"
   ]
  },
  {
   "cell_type": "markdown",
   "metadata": {},
   "source": [
    "# <font color=red>Step1\n",
    "## Preparation\n",
    "\n",
    "1. Import all pckages needed, and make sure packages all installed.\n",
    "2. Reading data (Reference: *http://snap.stanford.edu/data/amazon/productGraph/*)"
   ]
  },
  {
   "cell_type": "code",
   "execution_count": 1,
   "metadata": {},
   "outputs": [
    {
     "name": "stdout",
     "output_type": "stream",
     "text": [
      "Requirement already satisfied: numpy in c:\\users\\13159\\anaconda3\\lib\\site-packages (1.20.2)\n",
      "Requirement already satisfied: pandas in c:\\users\\13159\\anaconda3\\lib\\site-packages (1.2.3)\n",
      "Requirement already satisfied: python-dateutil>=2.7.3 in c:\\users\\13159\\anaconda3\\lib\\site-packages (from pandas) (2.8.1)\n",
      "Requirement already satisfied: numpy>=1.16.5 in c:\\users\\13159\\anaconda3\\lib\\site-packages (from pandas) (1.20.2)\n",
      "Requirement already satisfied: pytz>=2017.3 in c:\\users\\13159\\anaconda3\\lib\\site-packages (from pandas) (2020.1)\n",
      "Requirement already satisfied: six>=1.5 in c:\\users\\13159\\anaconda3\\lib\\site-packages (from python-dateutil>=2.7.3->pandas) (1.15.0)\n",
      "Requirement already satisfied: nltk in c:\\users\\13159\\anaconda3\\lib\\site-packages (3.5)\n",
      "Requirement already satisfied: tqdm in c:\\users\\13159\\anaconda3\\lib\\site-packages (from nltk) (4.47.0)\n",
      "Requirement already satisfied: click in c:\\users\\13159\\anaconda3\\lib\\site-packages (from nltk) (7.1.2)\n",
      "Requirement already satisfied: joblib in c:\\users\\13159\\anaconda3\\lib\\site-packages (from nltk) (0.16.0)\n",
      "Requirement already satisfied: regex in c:\\users\\13159\\anaconda3\\lib\\site-packages (from nltk) (2020.6.8)\n",
      "Processing c:\\users\\13159\\appdata\\local\\pip\\cache\\wheels\\4f\\85\\2a\\67a30aa6cf144eca0c159f337ce5166df2213c4cde9e699cbe\\html_parser-0.2-py3-none-any.whl\n",
      "Requirement already satisfied: ply in c:\\users\\13159\\anaconda3\\lib\\site-packages (from html.parser) (3.11)\n",
      "Installing collected packages: html.parser\n",
      "Successfully installed html.parser\n",
      "Requirement already satisfied: pattern3 in c:\\users\\13159\\anaconda3\\lib\\site-packages (3.0.0)\n",
      "Requirement already satisfied: simplejson in c:\\users\\13159\\anaconda3\\lib\\site-packages (from pattern3) (3.17.2)\n",
      "Requirement already satisfied: pdfminer3k in c:\\users\\13159\\anaconda3\\lib\\site-packages (from pattern3) (1.3.4)\n",
      "Requirement already satisfied: pdfminer.six in c:\\users\\13159\\anaconda3\\lib\\site-packages (from pattern3) (20201018)\n",
      "Requirement already satisfied: feedparser in c:\\users\\13159\\anaconda3\\lib\\site-packages (from pattern3) (6.0.2)\n",
      "Requirement already satisfied: cherrypy in c:\\users\\13159\\anaconda3\\lib\\site-packages (from pattern3) (18.6.0)\n",
      "Requirement already satisfied: beautifulsoup4 in c:\\users\\13159\\anaconda3\\lib\\site-packages (from pattern3) (4.9.1)\n",
      "Requirement already satisfied: docx in c:\\users\\13159\\anaconda3\\lib\\site-packages (from pattern3) (0.2.4)\n",
      "Requirement already satisfied: ply in c:\\users\\13159\\anaconda3\\lib\\site-packages (from pdfminer3k->pattern3) (3.11)\n",
      "Requirement already satisfied: cryptography in c:\\users\\13159\\anaconda3\\lib\\site-packages (from pdfminer.six->pattern3) (2.9.2)\n",
      "Requirement already satisfied: chardet; python_version > \"3.0\" in c:\\users\\13159\\anaconda3\\lib\\site-packages (from pdfminer.six->pattern3) (3.0.4)\n",
      "Requirement already satisfied: sortedcontainers in c:\\users\\13159\\anaconda3\\lib\\site-packages (from pdfminer.six->pattern3) (2.2.2)\n",
      "Requirement already satisfied: sgmllib3k in c:\\users\\13159\\anaconda3\\lib\\site-packages (from feedparser->pattern3) (1.0.0)\n",
      "Requirement already satisfied: zc.lockfile in c:\\users\\13159\\anaconda3\\lib\\site-packages (from cherrypy->pattern3) (2.0)\n",
      "Requirement already satisfied: portend>=2.1.1 in c:\\users\\13159\\anaconda3\\lib\\site-packages (from cherrypy->pattern3) (2.7.1)\n",
      "Requirement already satisfied: jaraco.collections in c:\\users\\13159\\anaconda3\\lib\\site-packages (from cherrypy->pattern3) (3.3.0)\n",
      "Requirement already satisfied: more-itertools in c:\\users\\13159\\anaconda3\\lib\\site-packages (from cherrypy->pattern3) (8.4.0)\n",
      "Requirement already satisfied: cheroot>=8.2.1 in c:\\users\\13159\\anaconda3\\lib\\site-packages (from cherrypy->pattern3) (8.5.2)\n",
      "Requirement already satisfied: pywin32; sys_platform == \"win32\" in c:\\users\\13159\\anaconda3\\lib\\site-packages (from cherrypy->pattern3) (227)\n",
      "Requirement already satisfied: soupsieve>1.2 in c:\\users\\13159\\anaconda3\\lib\\site-packages (from beautifulsoup4->pattern3) (2.0.1)\n",
      "Requirement already satisfied: lxml in c:\\users\\13159\\anaconda3\\lib\\site-packages (from docx->pattern3) (4.5.2)\n",
      "Requirement already satisfied: Pillow>=2.0 in c:\\users\\13159\\anaconda3\\lib\\site-packages (from docx->pattern3) (7.2.0)\n",
      "Requirement already satisfied: six>=1.4.1 in c:\\users\\13159\\anaconda3\\lib\\site-packages (from cryptography->pdfminer.six->pattern3) (1.15.0)\n",
      "Requirement already satisfied: cffi!=1.11.3,>=1.8 in c:\\users\\13159\\anaconda3\\lib\\site-packages (from cryptography->pdfminer.six->pattern3) (1.14.0)\n",
      "Requirement already satisfied: setuptools in c:\\users\\13159\\anaconda3\\lib\\site-packages (from zc.lockfile->cherrypy->pattern3) (49.2.0.post20200714)\n",
      "Requirement already satisfied: tempora>=1.8 in c:\\users\\13159\\anaconda3\\lib\\site-packages (from portend>=2.1.1->cherrypy->pattern3) (4.0.1)\n",
      "Requirement already satisfied: jaraco.classes in c:\\users\\13159\\anaconda3\\lib\\site-packages (from jaraco.collections->cherrypy->pattern3) (3.2.1)\n",
      "Requirement already satisfied: jaraco.text in c:\\users\\13159\\anaconda3\\lib\\site-packages (from jaraco.collections->cherrypy->pattern3) (3.5.0)\n",
      "Requirement already satisfied: jaraco.functools in c:\\users\\13159\\anaconda3\\lib\\site-packages (from cheroot>=8.2.1->cherrypy->pattern3) (3.3.0)\n",
      "Requirement already satisfied: pycparser in c:\\users\\13159\\anaconda3\\lib\\site-packages (from cffi!=1.11.3,>=1.8->cryptography->pdfminer.six->pattern3) (2.20)\n",
      "Requirement already satisfied: pytz in c:\\users\\13159\\anaconda3\\lib\\site-packages (from tempora>=1.8->portend>=2.1.1->cherrypy->pattern3) (2020.1)\n",
      "Requirement already satisfied: pyLDAvis in c:\\users\\13159\\anaconda3\\lib\\site-packages (3.3.1)\n",
      "Requirement already satisfied: joblib in c:\\users\\13159\\anaconda3\\lib\\site-packages (from pyLDAvis) (0.16.0)\n",
      "Requirement already satisfied: setuptools in c:\\users\\13159\\anaconda3\\lib\\site-packages (from pyLDAvis) (49.2.0.post20200714)\n",
      "Requirement already satisfied: numpy>=1.20.0 in c:\\users\\13159\\anaconda3\\lib\\site-packages (from pyLDAvis) (1.20.2)\n",
      "Requirement already satisfied: funcy in c:\\users\\13159\\anaconda3\\lib\\site-packages (from pyLDAvis) (1.15)\n",
      "Requirement already satisfied: scikit-learn in c:\\users\\13159\\anaconda3\\lib\\site-packages (from pyLDAvis) (0.23.1)\n",
      "Requirement already satisfied: sklearn in c:\\users\\13159\\anaconda3\\lib\\site-packages (from pyLDAvis) (0.0)\n",
      "Requirement already satisfied: numexpr in c:\\users\\13159\\anaconda3\\lib\\site-packages (from pyLDAvis) (2.7.1)\n",
      "Requirement already satisfied: future in c:\\users\\13159\\anaconda3\\lib\\site-packages (from pyLDAvis) (0.18.2)\n",
      "Requirement already satisfied: gensim in c:\\users\\13159\\anaconda3\\lib\\site-packages (from pyLDAvis) (4.0.1)\n",
      "Requirement already satisfied: pandas>=1.2.0 in c:\\users\\13159\\anaconda3\\lib\\site-packages (from pyLDAvis) (1.2.3)\n",
      "Requirement already satisfied: scipy in c:\\users\\13159\\anaconda3\\lib\\site-packages (from pyLDAvis) (1.5.0)\n",
      "Requirement already satisfied: jinja2 in c:\\users\\13159\\anaconda3\\lib\\site-packages (from pyLDAvis) (2.11.2)\n",
      "Requirement already satisfied: threadpoolctl>=2.0.0 in c:\\users\\13159\\anaconda3\\lib\\site-packages (from scikit-learn->pyLDAvis) (2.1.0)\n",
      "Requirement already satisfied: Cython==0.29.21 in c:\\users\\13159\\anaconda3\\lib\\site-packages (from gensim->pyLDAvis) (0.29.21)\n",
      "Requirement already satisfied: smart-open>=1.8.1 in c:\\users\\13159\\anaconda3\\lib\\site-packages (from gensim->pyLDAvis) (5.0.0)\n",
      "Requirement already satisfied: pytz>=2017.3 in c:\\users\\13159\\anaconda3\\lib\\site-packages (from pandas>=1.2.0->pyLDAvis) (2020.1)\n",
      "Requirement already satisfied: python-dateutil>=2.7.3 in c:\\users\\13159\\anaconda3\\lib\\site-packages (from pandas>=1.2.0->pyLDAvis) (2.8.1)\n",
      "Requirement already satisfied: MarkupSafe>=0.23 in c:\\users\\13159\\anaconda3\\lib\\site-packages (from jinja2->pyLDAvis) (1.1.1)\n",
      "Requirement already satisfied: six>=1.5 in c:\\users\\13159\\anaconda3\\lib\\site-packages (from python-dateutil>=2.7.3->pandas>=1.2.0->pyLDAvis) (1.15.0)\n"
     ]
    },
    {
     "name": "stderr",
     "output_type": "stream",
     "text": [
      "[nltk_data] Downloading package stopwords to\n",
      "[nltk_data]     C:\\Users\\13159\\AppData\\Roaming\\nltk_data...\n",
      "[nltk_data]   Package stopwords is already up-to-date!\n",
      "[nltk_data] Downloading package punkt to\n",
      "[nltk_data]     C:\\Users\\13159\\AppData\\Roaming\\nltk_data...\n",
      "[nltk_data]   Package punkt is already up-to-date!\n",
      "[nltk_data] Downloading package averaged_perceptron_tagger to\n",
      "[nltk_data]     C:\\Users\\13159\\AppData\\Roaming\\nltk_data...\n",
      "[nltk_data]   Package averaged_perceptron_tagger is already up-to-\n",
      "[nltk_data]       date!\n",
      "[nltk_data] Downloading package wordnet to\n",
      "[nltk_data]     C:\\Users\\13159\\AppData\\Roaming\\nltk_data...\n",
      "[nltk_data]   Package wordnet is already up-to-date!\n"
     ]
    },
    {
     "name": "stdout",
     "output_type": "stream",
     "text": [
      "Original:   <p>The circus dog in a plissé skirt jumped over Python who wasn't that large, just 3 feet long.</p>\n",
      "Processed:  ['<', 'p', '>', 'The', 'circus', 'dog', 'in', 'a', 'plissé', 'skirt', 'jumped', 'over', 'Python', 'who', 'was', \"n't\", 'that', 'large', ',', 'just', '3', 'feet', 'long.', '<', '/p', '>']\n",
      "Original:   <p>The circus dog in a plissé skirt jumped over Python who wasn't that large, just 3 feet long.</p>\n",
      "Processed:  <p>The circus dog in a plissé skirt jumped over Python who was not that large, just 3 feet long.</p>\n",
      "Original:   <p>The circus dog in a plissé skirt jumped over Python who wasn't that large, just 3 feet long.</p>\n",
      "Processed:  [('<', 'a'), ('p', 'n'), ('>', 'v'), ('the', None), ('circus', 'n'), ('dog', 'n'), ('in', None), ('a', None), ('plissé', 'n'), ('skirt', 'n'), ('jumped', 'v'), ('over', None), ('python', 'n'), ('who', None), ('was', 'v'), (\"n't\", 'r'), ('that', None), ('large', 'a'), (',', None), ('just', 'r'), ('3', None), ('feet', 'n'), ('long.', 'a'), ('<', 'n'), ('/p', 'n'), ('>', 'n')]\n",
      "Original:   <p>The circus dog in a plissé skirt jumped over Python who wasn't that large, just 3 feet long.</p>\n",
      "Processed:  < p > the circus dog in a plissé skirt jump over python who be n't that large , just 3 foot long. < /p >\n",
      "Original:   <p>The circus dog in a plissé skirt jumped over Python who wasn't that large, just 3 feet long.</p>\n",
      "Processed:    p   The circus dog in a plissé skirt jumped over Python who was n t that large   just 3 feet long     p  \n",
      "Original:   <p>The circus dog in a plissé skirt jumped over Python who wasn't that large, just 3 feet long.</p>\n",
      "Processed:  < p > The circus dog plissé skirt jumped Python n't large , 3 feet long. < /p >\n",
      "Original:   <p>The circus dog in a plissé skirt jumped over Python who wasn't that large, just 3 feet long.</p>\n",
      "Processed:  p The circus dog in a plissé skirt jumped over Python who was n't that large just feet long. /p\n",
      "Original:   <p>The circus dog in a plissé skirt jumped over Python who wasn't that large, just 3 feet long.</p>\n",
      "Processed:  The circus dog in a plissé skirt jumped over Python who wasn't that large, just 3 feet long.\n",
      "Original:   <p>The circus dog in a plissé skirt jumped over Python who wasn't that large, just 3 feet long.</p>\n",
      "Processed:  <p>The circus dog in a plisse skirt jumped over Python who wasn't that large, just 3 feet long.</p>\n",
      "Requirement already satisfied: afinn in c:\\users\\13159\\anaconda3\\lib\\site-packages (0.1)\n"
     ]
    },
    {
     "name": "stderr",
     "output_type": "stream",
     "text": [
      "[nltk_data] Downloading package vader_lexicon to\n",
      "[nltk_data]     C:\\Users\\13159\\AppData\\Roaming\\nltk_data...\n",
      "[nltk_data]   Package vader_lexicon is already up-to-date!\n"
     ]
    }
   ],
   "source": [
    "# Packages needed\n",
    "# The module 'sys' allows istalling module from inside Jupyter \n",
    "import sys\n",
    "\n",
    "# The module 'random' helps splitting data into training and testing\n",
    "import random\n",
    "\n",
    "!{sys.executable} -m pip install numpy\n",
    "import numpy as np \n",
    "\n",
    "!{sys.executable} -m pip install pandas\n",
    "import pandas as pd\n",
    "\n",
    "# Natrual Language ToolKit (NLTK)\n",
    "!{sys.executable} -m pip install nltk\n",
    "import nltk\n",
    "\n",
    "# Text normalization function\n",
    "%run ./Text_Normalization_Function.ipynb\n",
    "\n",
    "# Affin lexicon module\n",
    "!{sys.executable} -m pip install afinn\n",
    "from afinn import Afinn\n",
    "\n",
    "# Plotting package\n",
    "import matplotlib.pyplot as plt\n",
    "\n",
    "# Reading unzip json file into a panda dataframe\n",
    "def parse(path):\n",
    "    g = gzip.open(path, 'r')\n",
    "    for l in g:\n",
    "        yield eval(l)\n",
    "\n",
    "# The module \"json\" hepls to read json file\n",
    "import json\n",
    "\n",
    "# The module \"gzip\" helps to unzip data\n",
    "import gzip\n",
    "\n",
    "# Sklearn for SVM\n",
    "from sklearn import linear_model\n",
    "from sklearn import metrics\n",
    "from sklearn.feature_extraction.text import TfidfVectorizer\n",
    "\n",
    "# Import analyzer for Vader\n",
    "from nltk.sentiment.vader import SentimentIntensityAnalyzer\n",
    "\n",
    "# Download the VADER lexicon\n",
    "nltk.download('vader_lexicon')\n",
    "\n",
    "def parse(path):\n",
    "    g = gzip.open(path, 'r')\n",
    "    for l in g:\n",
    "        yield json.dumps(eval(l))\n",
    "\n",
    "f = open(\"output.strict\", 'w')\n",
    "for l in parse(\"reviews_Toys_and_Games_5.json.gz\"):\n",
    "    f.write(l + '\\n')\n",
    "\n",
    "def parse(path):\n",
    "    g = gzip.open(path, 'rb')\n",
    "    for l in g:\n",
    "        yield eval(l)\n",
    "\n",
    "def getDF(path):\n",
    "    i = 0\n",
    "    df = {}\n",
    "    for d in parse(path):\n",
    "        df[i] = d\n",
    "        i += 1\n",
    "    return pd.DataFrame.from_dict(df, orient='index')\n",
    "\n",
    "df = getDF(\"reviews_Toys_and_Games_5.json.gz\")"
   ]
  },
  {
   "cell_type": "markdown",
   "metadata": {},
   "source": [
    "# <font color=red> Step2\n",
    "## <font color=blue> Text Data Pre-Processing\n",
    "\n",
    "1. Initialize a new colnumn indicating the sentiment of Review Text.\n",
    "2. Find a products with most number of reviews\n",
    "3. Normalize the text for reviews and name the normalized corpora of review texts"
   ]
  },
  {
   "cell_type": "code",
   "execution_count": 2,
   "metadata": {},
   "outputs": [
    {
     "data": {
      "text/html": [
       "<div>\n",
       "<style scoped>\n",
       "    .dataframe tbody tr th:only-of-type {\n",
       "        vertical-align: middle;\n",
       "    }\n",
       "\n",
       "    .dataframe tbody tr th {\n",
       "        vertical-align: top;\n",
       "    }\n",
       "\n",
       "    .dataframe thead th {\n",
       "        text-align: right;\n",
       "    }\n",
       "</style>\n",
       "<table border=\"1\" class=\"dataframe\">\n",
       "  <thead>\n",
       "    <tr style=\"text-align: right;\">\n",
       "      <th></th>\n",
       "      <th>10pm</th>\n",
       "      <th>1c5w1ph</th>\n",
       "      <th>1st</th>\n",
       "      <th>2am</th>\n",
       "      <th>3am</th>\n",
       "      <th>3rd</th>\n",
       "      <th>7yr</th>\n",
       "      <th>80s</th>\n",
       "      <th>90s</th>\n",
       "      <th>a2a</th>\n",
       "      <th>...</th>\n",
       "      <th>yep</th>\n",
       "      <th>yes</th>\n",
       "      <th>yet</th>\n",
       "      <th>yield</th>\n",
       "      <th>york</th>\n",
       "      <th>young</th>\n",
       "      <th>yr</th>\n",
       "      <th>yup</th>\n",
       "      <th>zesty</th>\n",
       "      <th>zone</th>\n",
       "    </tr>\n",
       "  </thead>\n",
       "  <tbody>\n",
       "    <tr>\n",
       "      <th>0</th>\n",
       "      <td>0.3</td>\n",
       "      <td>0.0</td>\n",
       "      <td>0.0</td>\n",
       "      <td>0.3</td>\n",
       "      <td>0.0</td>\n",
       "      <td>0.00</td>\n",
       "      <td>0.0</td>\n",
       "      <td>0.0</td>\n",
       "      <td>0.0</td>\n",
       "      <td>0.0</td>\n",
       "      <td>...</td>\n",
       "      <td>0.0</td>\n",
       "      <td>0.0</td>\n",
       "      <td>0.0</td>\n",
       "      <td>0.0</td>\n",
       "      <td>0.0</td>\n",
       "      <td>0.00</td>\n",
       "      <td>0.0</td>\n",
       "      <td>0.0</td>\n",
       "      <td>0.0</td>\n",
       "      <td>0.0</td>\n",
       "    </tr>\n",
       "    <tr>\n",
       "      <th>1</th>\n",
       "      <td>0.0</td>\n",
       "      <td>0.0</td>\n",
       "      <td>0.0</td>\n",
       "      <td>0.0</td>\n",
       "      <td>0.0</td>\n",
       "      <td>0.11</td>\n",
       "      <td>0.0</td>\n",
       "      <td>0.0</td>\n",
       "      <td>0.0</td>\n",
       "      <td>0.0</td>\n",
       "      <td>...</td>\n",
       "      <td>0.0</td>\n",
       "      <td>0.0</td>\n",
       "      <td>0.0</td>\n",
       "      <td>0.0</td>\n",
       "      <td>0.0</td>\n",
       "      <td>0.11</td>\n",
       "      <td>0.0</td>\n",
       "      <td>0.0</td>\n",
       "      <td>0.0</td>\n",
       "      <td>0.0</td>\n",
       "    </tr>\n",
       "    <tr>\n",
       "      <th>2</th>\n",
       "      <td>0.0</td>\n",
       "      <td>0.0</td>\n",
       "      <td>0.0</td>\n",
       "      <td>0.0</td>\n",
       "      <td>0.0</td>\n",
       "      <td>0.00</td>\n",
       "      <td>0.0</td>\n",
       "      <td>0.0</td>\n",
       "      <td>0.0</td>\n",
       "      <td>0.0</td>\n",
       "      <td>...</td>\n",
       "      <td>0.0</td>\n",
       "      <td>0.0</td>\n",
       "      <td>0.0</td>\n",
       "      <td>0.0</td>\n",
       "      <td>0.0</td>\n",
       "      <td>0.00</td>\n",
       "      <td>0.0</td>\n",
       "      <td>0.0</td>\n",
       "      <td>0.0</td>\n",
       "      <td>0.0</td>\n",
       "    </tr>\n",
       "    <tr>\n",
       "      <th>3</th>\n",
       "      <td>0.0</td>\n",
       "      <td>0.0</td>\n",
       "      <td>0.0</td>\n",
       "      <td>0.0</td>\n",
       "      <td>0.0</td>\n",
       "      <td>0.00</td>\n",
       "      <td>0.0</td>\n",
       "      <td>0.0</td>\n",
       "      <td>0.0</td>\n",
       "      <td>0.0</td>\n",
       "      <td>...</td>\n",
       "      <td>0.0</td>\n",
       "      <td>0.0</td>\n",
       "      <td>0.0</td>\n",
       "      <td>0.0</td>\n",
       "      <td>0.0</td>\n",
       "      <td>0.00</td>\n",
       "      <td>0.0</td>\n",
       "      <td>0.0</td>\n",
       "      <td>0.0</td>\n",
       "      <td>0.0</td>\n",
       "    </tr>\n",
       "    <tr>\n",
       "      <th>4</th>\n",
       "      <td>0.0</td>\n",
       "      <td>0.0</td>\n",
       "      <td>0.0</td>\n",
       "      <td>0.0</td>\n",
       "      <td>0.0</td>\n",
       "      <td>0.00</td>\n",
       "      <td>0.0</td>\n",
       "      <td>0.0</td>\n",
       "      <td>0.0</td>\n",
       "      <td>0.0</td>\n",
       "      <td>...</td>\n",
       "      <td>0.0</td>\n",
       "      <td>0.0</td>\n",
       "      <td>0.0</td>\n",
       "      <td>0.0</td>\n",
       "      <td>0.0</td>\n",
       "      <td>0.00</td>\n",
       "      <td>0.0</td>\n",
       "      <td>0.0</td>\n",
       "      <td>0.0</td>\n",
       "      <td>0.0</td>\n",
       "    </tr>\n",
       "    <tr>\n",
       "      <th>...</th>\n",
       "      <td>...</td>\n",
       "      <td>...</td>\n",
       "      <td>...</td>\n",
       "      <td>...</td>\n",
       "      <td>...</td>\n",
       "      <td>...</td>\n",
       "      <td>...</td>\n",
       "      <td>...</td>\n",
       "      <td>...</td>\n",
       "      <td>...</td>\n",
       "      <td>...</td>\n",
       "      <td>...</td>\n",
       "      <td>...</td>\n",
       "      <td>...</td>\n",
       "      <td>...</td>\n",
       "      <td>...</td>\n",
       "      <td>...</td>\n",
       "      <td>...</td>\n",
       "      <td>...</td>\n",
       "      <td>...</td>\n",
       "      <td>...</td>\n",
       "    </tr>\n",
       "    <tr>\n",
       "      <th>304</th>\n",
       "      <td>0.0</td>\n",
       "      <td>0.0</td>\n",
       "      <td>0.0</td>\n",
       "      <td>0.0</td>\n",
       "      <td>0.0</td>\n",
       "      <td>0.00</td>\n",
       "      <td>0.0</td>\n",
       "      <td>0.0</td>\n",
       "      <td>0.0</td>\n",
       "      <td>0.0</td>\n",
       "      <td>...</td>\n",
       "      <td>0.0</td>\n",
       "      <td>0.0</td>\n",
       "      <td>0.0</td>\n",
       "      <td>0.0</td>\n",
       "      <td>0.0</td>\n",
       "      <td>0.00</td>\n",
       "      <td>0.0</td>\n",
       "      <td>0.0</td>\n",
       "      <td>0.0</td>\n",
       "      <td>0.0</td>\n",
       "    </tr>\n",
       "    <tr>\n",
       "      <th>305</th>\n",
       "      <td>0.0</td>\n",
       "      <td>0.0</td>\n",
       "      <td>0.0</td>\n",
       "      <td>0.0</td>\n",
       "      <td>0.0</td>\n",
       "      <td>0.00</td>\n",
       "      <td>0.0</td>\n",
       "      <td>0.0</td>\n",
       "      <td>0.0</td>\n",
       "      <td>0.0</td>\n",
       "      <td>...</td>\n",
       "      <td>0.0</td>\n",
       "      <td>0.0</td>\n",
       "      <td>0.0</td>\n",
       "      <td>0.0</td>\n",
       "      <td>0.0</td>\n",
       "      <td>0.00</td>\n",
       "      <td>0.0</td>\n",
       "      <td>0.0</td>\n",
       "      <td>0.0</td>\n",
       "      <td>0.0</td>\n",
       "    </tr>\n",
       "    <tr>\n",
       "      <th>306</th>\n",
       "      <td>0.0</td>\n",
       "      <td>0.0</td>\n",
       "      <td>0.0</td>\n",
       "      <td>0.0</td>\n",
       "      <td>0.0</td>\n",
       "      <td>0.00</td>\n",
       "      <td>0.0</td>\n",
       "      <td>0.0</td>\n",
       "      <td>0.0</td>\n",
       "      <td>0.0</td>\n",
       "      <td>...</td>\n",
       "      <td>0.0</td>\n",
       "      <td>0.0</td>\n",
       "      <td>0.0</td>\n",
       "      <td>0.0</td>\n",
       "      <td>0.0</td>\n",
       "      <td>0.00</td>\n",
       "      <td>0.0</td>\n",
       "      <td>0.0</td>\n",
       "      <td>0.0</td>\n",
       "      <td>0.0</td>\n",
       "    </tr>\n",
       "    <tr>\n",
       "      <th>307</th>\n",
       "      <td>0.0</td>\n",
       "      <td>0.0</td>\n",
       "      <td>0.0</td>\n",
       "      <td>0.0</td>\n",
       "      <td>0.0</td>\n",
       "      <td>0.00</td>\n",
       "      <td>0.0</td>\n",
       "      <td>0.0</td>\n",
       "      <td>0.0</td>\n",
       "      <td>0.0</td>\n",
       "      <td>...</td>\n",
       "      <td>0.0</td>\n",
       "      <td>0.0</td>\n",
       "      <td>0.0</td>\n",
       "      <td>0.0</td>\n",
       "      <td>0.0</td>\n",
       "      <td>0.00</td>\n",
       "      <td>0.0</td>\n",
       "      <td>0.0</td>\n",
       "      <td>0.0</td>\n",
       "      <td>0.0</td>\n",
       "    </tr>\n",
       "    <tr>\n",
       "      <th>308</th>\n",
       "      <td>0.0</td>\n",
       "      <td>0.0</td>\n",
       "      <td>0.0</td>\n",
       "      <td>0.0</td>\n",
       "      <td>0.0</td>\n",
       "      <td>0.00</td>\n",
       "      <td>0.0</td>\n",
       "      <td>0.0</td>\n",
       "      <td>0.0</td>\n",
       "      <td>0.0</td>\n",
       "      <td>...</td>\n",
       "      <td>0.0</td>\n",
       "      <td>0.0</td>\n",
       "      <td>0.0</td>\n",
       "      <td>0.0</td>\n",
       "      <td>0.0</td>\n",
       "      <td>0.00</td>\n",
       "      <td>0.0</td>\n",
       "      <td>0.0</td>\n",
       "      <td>0.0</td>\n",
       "      <td>0.0</td>\n",
       "    </tr>\n",
       "  </tbody>\n",
       "</table>\n",
       "<p>309 rows × 1824 columns</p>\n",
       "</div>"
      ],
      "text/plain": [
       "     10pm  1c5w1ph  1st  2am  3am   3rd  7yr  80s  90s  a2a  ...  yep  yes  \\\n",
       "0     0.3      0.0  0.0  0.3  0.0  0.00  0.0  0.0  0.0  0.0  ...  0.0  0.0   \n",
       "1     0.0      0.0  0.0  0.0  0.0  0.11  0.0  0.0  0.0  0.0  ...  0.0  0.0   \n",
       "2     0.0      0.0  0.0  0.0  0.0  0.00  0.0  0.0  0.0  0.0  ...  0.0  0.0   \n",
       "3     0.0      0.0  0.0  0.0  0.0  0.00  0.0  0.0  0.0  0.0  ...  0.0  0.0   \n",
       "4     0.0      0.0  0.0  0.0  0.0  0.00  0.0  0.0  0.0  0.0  ...  0.0  0.0   \n",
       "..    ...      ...  ...  ...  ...   ...  ...  ...  ...  ...  ...  ...  ...   \n",
       "304   0.0      0.0  0.0  0.0  0.0  0.00  0.0  0.0  0.0  0.0  ...  0.0  0.0   \n",
       "305   0.0      0.0  0.0  0.0  0.0  0.00  0.0  0.0  0.0  0.0  ...  0.0  0.0   \n",
       "306   0.0      0.0  0.0  0.0  0.0  0.00  0.0  0.0  0.0  0.0  ...  0.0  0.0   \n",
       "307   0.0      0.0  0.0  0.0  0.0  0.00  0.0  0.0  0.0  0.0  ...  0.0  0.0   \n",
       "308   0.0      0.0  0.0  0.0  0.0  0.00  0.0  0.0  0.0  0.0  ...  0.0  0.0   \n",
       "\n",
       "     yet  yield  york  young   yr  yup  zesty  zone  \n",
       "0    0.0    0.0   0.0   0.00  0.0  0.0    0.0   0.0  \n",
       "1    0.0    0.0   0.0   0.11  0.0  0.0    0.0   0.0  \n",
       "2    0.0    0.0   0.0   0.00  0.0  0.0    0.0   0.0  \n",
       "3    0.0    0.0   0.0   0.00  0.0  0.0    0.0   0.0  \n",
       "4    0.0    0.0   0.0   0.00  0.0  0.0    0.0   0.0  \n",
       "..   ...    ...   ...    ...  ...  ...    ...   ...  \n",
       "304  0.0    0.0   0.0   0.00  0.0  0.0    0.0   0.0  \n",
       "305  0.0    0.0   0.0   0.00  0.0  0.0    0.0   0.0  \n",
       "306  0.0    0.0   0.0   0.00  0.0  0.0    0.0   0.0  \n",
       "307  0.0    0.0   0.0   0.00  0.0  0.0    0.0   0.0  \n",
       "308  0.0    0.0   0.0   0.00  0.0  0.0    0.0   0.0  \n",
       "\n",
       "[309 rows x 1824 columns]"
      ]
     },
     "execution_count": 2,
     "metadata": {},
     "output_type": "execute_result"
    }
   ],
   "source": [
    "# Create a new column named \"polarity\" and set is as \"positive\" if overall rating is greater than 4.0, else set it as \"negative\"\n",
    "temp_f = lambda x: \"positive\" if x > 4.0 else \"negative\"\n",
    "df[\"polarity\"] = pd.DataFrame(df[\"overall\"]).applymap(temp_f)\n",
    "\n",
    "# Find a products with most number of reviews\n",
    "temp = df.groupby(\"asin\")[\"reviewerID\"].count()\n",
    "most_reviews_prod = temp.sort_values(ascending = False).index[0]\n",
    "\n",
    "# Define puzzel as the review of game Cards Against Humanity\n",
    "puzzel = df.loc[df.asin==\"B004S8F7QM\",]\n",
    "\n",
    "# Normalize review text\n",
    "normalized_reviews = normalize_corpus(np.array(puzzel[\"reviewText\"]))\n",
    "\n",
    "#T okenization into Words\n",
    "# Sample code\n",
    "# whitespace_wt = nltk.WhitespaceTokenizer()\n",
    "# words = whitespace_wt.tokenize()\n",
    "\n",
    "#Bag of words\n",
    "bow_vectorizer = CountVectorizer()\n",
    "bow_toy_corpus = bow_vectorizer.fit_transform(normalized_reviews)\n",
    "pd.DataFrame(data = bow_toy_corpus.todense(), columns = bow_vectorizer.get_feature_names())\n",
    "\n",
    "# TF-IDF\n",
    "vectorizer_TF_IDF = TfidfVectorizer(norm = 'l2', smooth_idf = True)\n",
    "TF_IDF_matrix = vectorizer_TF_IDF.fit_transform(normalized_reviews).todense()\n",
    "pd.DataFrame(np.round(TF_IDF_matrix,2), columns=vectorizer_TF_IDF.get_feature_names())\n",
    "\n",
    "# # Stop words\n",
    "# # Sample codes\n",
    "# stop_words=set(stopwords.words(\"english\"))\n",
    "# add_stopwords ={'way','alot'}\n",
    "# stop_words_new = add_stopwords.union(stop_words)\n",
    "# filtered_tokens=[]\n",
    "# for w in words:\n",
    "#     if w not in stop_words:\n",
    "#         filtered_tokens.append(w)"
   ]
  },
  {
   "cell_type": "markdown",
   "metadata": {},
   "source": [
    "# <font color=red> Step3\n",
    "## <font color=blue> Sentiment analysis\n",
    "\n",
    "####  Model using\n",
    "1. Vader, Afinn lexicon (Unsupervised)\n",
    "2. SVM (Supervised)\n",
    "<br> (Finally, not considered because of limited sample size)\n",
    "\n",
    "#### Methodology\n",
    "1. Randomly split data into training and testing.\n",
    "2. Fine-tune a best lexicon based sentiment analyzer\n",
    "   (Due to limited sample size, Fine-tuning is meaningless because of limited sample size.)\n",
    "3. classification using SVM\n",
    "4. Using chart to help analyze\n",
    "    \n",
    "#### Objective\n",
    "1. Try different models to see whether our analysis result is reliable (Business decision making should rely on trusted analysis)\n",
    "2. Be ready to apply sentiment analyzer sentiment on new customers"
   ]
  },
  {
   "cell_type": "code",
   "execution_count": 3,
   "metadata": {},
   "outputs": [],
   "source": [
    "# Set a random seed to ensure that we get the same result each time we run the same process\n",
    "random.seed(1)\n",
    "\n",
    "# split data into training (209 observations) and testing (100 observations)\n",
    "puzzel_index = puzzel.index.tolist()\n",
    "training_index = random.sample(puzzel_index, 209)\n",
    "testing_index = [item for item in puzzel_index if item not in training_index]\n",
    "\n",
    "training_puzzel = puzzel.loc[training_index]\n",
    "testing_puzzel = puzzel.loc[testing_index]"
   ]
  },
  {
   "cell_type": "markdown",
   "metadata": {},
   "source": [
    "##### Afinn lexicon based sentiment analyzer"
   ]
  },
  {
   "cell_type": "code",
   "execution_count": 4,
   "metadata": {},
   "outputs": [],
   "source": [
    "# Afinn lexicon based sentiment analysis\n",
    "afinn_sentiment_score = [ Afinn().score(testing_puzzel[\"reviewText\"].iloc[i]) for i in range(100)]\n",
    "afinn_prediction = [\"positive\" if i >0 else \"negative\" for i in afinn_sentiment_score]"
   ]
  },
  {
   "cell_type": "code",
   "execution_count": 5,
   "metadata": {},
   "outputs": [
    {
     "data": {
      "text/plain": [
       "0.81"
      ]
     },
     "execution_count": 5,
     "metadata": {},
     "output_type": "execute_result"
    }
   ],
   "source": [
    "# Afinn lexicon based sentiment analysis prediction accuracy\n",
    "np.mean(afinn_prediction == testing_puzzel[\"polarity\"])"
   ]
  },
  {
   "cell_type": "code",
   "execution_count": 6,
   "metadata": {},
   "outputs": [],
   "source": [
    "# # Find a best lambda\n",
    "# lambdaa_list = [i-25 for i in range(50)]\n",
    "# lambdaa_list\n",
    "# afinn_accuracy_list = []\n",
    "# for j in lambdaa_list:\n",
    "#     afinn_sentiment_score = [ Afinn().score(testing_puzzel[\"reviewText\"].iloc[i]) for i in range(100)]\n",
    "#     afinn_prediction = [\"positive\" if i > j else \"negative\" for i in afinn_sentiment_score]\n",
    "#     afinn_accuracy_list.append(np.mean(afinn_prediction == testing_puzzel[\"polarity\"]))\n",
    "\n",
    "# afinn_accuracy_list"
   ]
  },
  {
   "cell_type": "code",
   "execution_count": 7,
   "metadata": {},
   "outputs": [
    {
     "data": {
      "text/html": [
       "<div>\n",
       "<style scoped>\n",
       "    .dataframe tbody tr th:only-of-type {\n",
       "        vertical-align: middle;\n",
       "    }\n",
       "\n",
       "    .dataframe tbody tr th {\n",
       "        vertical-align: top;\n",
       "    }\n",
       "\n",
       "    .dataframe thead th {\n",
       "        text-align: right;\n",
       "    }\n",
       "</style>\n",
       "<table border=\"1\" class=\"dataframe\">\n",
       "  <thead>\n",
       "    <tr style=\"text-align: right;\">\n",
       "      <th>Predicted:</th>\n",
       "      <th>negative</th>\n",
       "      <th>positive</th>\n",
       "      <th>All</th>\n",
       "    </tr>\n",
       "    <tr>\n",
       "      <th>True:</th>\n",
       "      <th></th>\n",
       "      <th></th>\n",
       "      <th></th>\n",
       "    </tr>\n",
       "  </thead>\n",
       "  <tbody>\n",
       "    <tr>\n",
       "      <th>negative</th>\n",
       "      <td>1</td>\n",
       "      <td>14</td>\n",
       "      <td>15</td>\n",
       "    </tr>\n",
       "    <tr>\n",
       "      <th>positive</th>\n",
       "      <td>5</td>\n",
       "      <td>80</td>\n",
       "      <td>85</td>\n",
       "    </tr>\n",
       "    <tr>\n",
       "      <th>All</th>\n",
       "      <td>6</td>\n",
       "      <td>94</td>\n",
       "      <td>100</td>\n",
       "    </tr>\n",
       "  </tbody>\n",
       "</table>\n",
       "</div>"
      ],
      "text/plain": [
       "Predicted:  negative  positive  All\n",
       "True:                              \n",
       "negative           1        14   15\n",
       "positive           5        80   85\n",
       "All                6        94  100"
      ]
     },
     "execution_count": 7,
     "metadata": {},
     "output_type": "execute_result"
    }
   ],
   "source": [
    "# Confusion matrix\n",
    "pd.crosstab(pd.Series(testing_puzzel[\"polarity\"].tolist()), \n",
    "            pd.Series(afinn_prediction), \n",
    "            rownames = ['True:'], \n",
    "            colnames = ['Predicted:'], \n",
    "            margins = True)"
   ]
  },
  {
   "cell_type": "code",
   "execution_count": 8,
   "metadata": {},
   "outputs": [
    {
     "data": {
      "image/png": "[encoded data removed]",
      "text/plain": [
       "<Figure size 432x288 with 1 Axes>"
      ]
     },
     "metadata": {
      "needs_background": "light"
     },
     "output_type": "display_data"
    }
   ],
   "source": [
    "# Have a look at raw Afinn scores assigned to actual positive reviews\n",
    "testing_puzzel_pos = testing_puzzel.loc[testing_puzzel[\"polarity\"] == \"positive\"]\n",
    "afinn_pos_sentiment_score = [ Afinn().score(testing_puzzel_pos[\"reviewText\"].iloc[i]) for i in range(85)]\n",
    "\n",
    "pos_reviews_scored_afinn = pd.Series(afinn_pos_sentiment_score)\n",
    "plt.bar(range(0, 85), pos_reviews_scored_afinn.sort_values(ascending=False))\n",
    "plt.xlabel(\"Reviews with positive ACTUAL polarity\")\n",
    "plt.ylabel(\"Afinn Score\")\n",
    "plt.title(\"Afinn Scores for ACTUAL Positive Reviews \\n (in decreasing order of Afinn scores)\")\n",
    "plt.show()"
   ]
  },
  {
   "cell_type": "code",
   "execution_count": 9,
   "metadata": {},
   "outputs": [
    {
     "data": {
      "image/png": "[encoded data removed]",
      "text/plain": [
       "<Figure size 432x288 with 1 Axes>"
      ]
     },
     "metadata": {
      "needs_background": "light"
     },
     "output_type": "display_data"
    }
   ],
   "source": [
    "# Have a look at raw Afinn scores assigned to actual negative reviews\n",
    "testing_puzzel_neg = testing_puzzel.loc[testing_puzzel[\"polarity\"] == \"negative\"]\n",
    "afinn_neg_sentiment_score = [ Afinn().score(testing_puzzel_neg[\"reviewText\"].iloc[i]) for i in range(15)]\n",
    "\n",
    "neg_reviews_scored_afinn = pd.Series(afinn_neg_sentiment_score)\n",
    "plt.bar(range(0, 15), neg_reviews_scored_afinn.sort_values(ascending=False))\n",
    "plt.xlabel(\"Reviews with positive ACTUAL polarity\")\n",
    "plt.ylabel(\"Afinn Score\")\n",
    "plt.title(\"Afinn Scores for ACTUAL Positive Reviews \\n (in decreasing order of Afinn scores)\")\n",
    "plt.show()"
   ]
  },
  {
   "cell_type": "markdown",
   "metadata": {},
   "source": [
    "Import the sentiment analysis function SentimentIntensityAnalyzer() that uses the VADER lexicon from the NLTK package. Let's refer to that function as analyzer for short:"
   ]
  },
  {
   "cell_type": "markdown",
   "metadata": {},
   "source": [
    "##### Vader lexicon based sentiment analyzer"
   ]
  },
  {
   "cell_type": "code",
   "execution_count": 10,
   "metadata": {},
   "outputs": [
    {
     "data": {
      "text/plain": [
       "0.79"
      ]
     },
     "execution_count": 10,
     "metadata": {},
     "output_type": "execute_result"
    }
   ],
   "source": [
    "analyzer = SentimentIntensityAnalyzer()\n",
    "vader_sentiment_score = [analyzer.polarity_scores(testing_puzzel[\"reviewText\"].iloc[i]) for i in range(100)]\n",
    "vader_sentiment_predictoin = [\"positive\" if item['compound'] > 0.1 else \"negative\" for item in vader_sentiment_score]\n",
    "np.mean(vader_sentiment_predictoin == testing_puzzel[\"polarity\"])"
   ]
  },
  {
   "cell_type": "code",
   "execution_count": 11,
   "metadata": {},
   "outputs": [
    {
     "data": {
      "text/html": [
       "<div>\n",
       "<style scoped>\n",
       "    .dataframe tbody tr th:only-of-type {\n",
       "        vertical-align: middle;\n",
       "    }\n",
       "\n",
       "    .dataframe tbody tr th {\n",
       "        vertical-align: top;\n",
       "    }\n",
       "\n",
       "    .dataframe thead th {\n",
       "        text-align: right;\n",
       "    }\n",
       "</style>\n",
       "<table border=\"1\" class=\"dataframe\">\n",
       "  <thead>\n",
       "    <tr style=\"text-align: right;\">\n",
       "      <th>Predicted:</th>\n",
       "      <th>negative</th>\n",
       "      <th>positive</th>\n",
       "      <th>All</th>\n",
       "    </tr>\n",
       "    <tr>\n",
       "      <th>True:</th>\n",
       "      <th></th>\n",
       "      <th></th>\n",
       "      <th></th>\n",
       "    </tr>\n",
       "  </thead>\n",
       "  <tbody>\n",
       "    <tr>\n",
       "      <th>negative</th>\n",
       "      <td>0</td>\n",
       "      <td>15</td>\n",
       "      <td>15</td>\n",
       "    </tr>\n",
       "    <tr>\n",
       "      <th>positive</th>\n",
       "      <td>6</td>\n",
       "      <td>79</td>\n",
       "      <td>85</td>\n",
       "    </tr>\n",
       "    <tr>\n",
       "      <th>All</th>\n",
       "      <td>6</td>\n",
       "      <td>94</td>\n",
       "      <td>100</td>\n",
       "    </tr>\n",
       "  </tbody>\n",
       "</table>\n",
       "</div>"
      ],
      "text/plain": [
       "Predicted:  negative  positive  All\n",
       "True:                              \n",
       "negative           0        15   15\n",
       "positive           6        79   85\n",
       "All                6        94  100"
      ]
     },
     "execution_count": 11,
     "metadata": {},
     "output_type": "execute_result"
    }
   ],
   "source": [
    "# Confusion matrix\n",
    "pd.crosstab(pd.Series(testing_puzzel[\"polarity\"].tolist()), \n",
    "            pd.Series(vader_sentiment_predictoin), \n",
    "            rownames = ['True:'], \n",
    "            colnames = ['Predicted:'], \n",
    "            margins = True)"
   ]
  },
  {
   "cell_type": "code",
   "execution_count": 12,
   "metadata": {},
   "outputs": [
    {
     "data": {
      "image/png": "[encoded data removed]",
      "text/plain": [
       "<Figure size 432x288 with 1 Axes>"
      ]
     },
     "metadata": {
      "needs_background": "light"
     },
     "output_type": "display_data"
    }
   ],
   "source": [
    "# Have a look at raw Vader scores assigned to actual positive reviews\n",
    "testing_puzzel_pos = testing_puzzel.loc[testing_puzzel[\"polarity\"] == \"positive\"]\n",
    "vader_pos_sentiment_score = [analyzer.polarity_scores(testing_puzzel_pos[\"reviewText\"].iloc[i]) for i in range(85)]\n",
    "vader_pos_sentiment_score = [item['compound'] for item in vader_pos_sentiment_score]\n",
    "\n",
    "pos_reviews_scored_vader = pd.Series(vader_pos_sentiment_score)\n",
    "plt.bar(range(0, 85), pos_reviews_scored_vader.sort_values(ascending=False))\n",
    "plt.xlabel(\"Reviews with positive ACTUAL polarity\")\n",
    "plt.ylabel(\"Vader Score\")\n",
    "plt.title(\"Vader Scores for ACTUAL Positive Reviews \\n (in decreasing order of Afinn scores)\")\n",
    "plt.show()"
   ]
  },
  {
   "cell_type": "code",
   "execution_count": 13,
   "metadata": {},
   "outputs": [
    {
     "data": {
      "image/png": "[encoded data removed]",
      "text/plain": [
       "<Figure size 432x288 with 1 Axes>"
      ]
     },
     "metadata": {
      "needs_background": "light"
     },
     "output_type": "display_data"
    }
   ],
   "source": [
    "# Have a look at raw Vader scores assigned to actual negative reviews\n",
    "testing_puzzel_neg = testing_puzzel.loc[testing_puzzel[\"polarity\"] == \"negative\"]\n",
    "vader_neg_sentiment_score = [analyzer.polarity_scores(testing_puzzel_neg[\"reviewText\"].iloc[i]) for i in range(15)]\n",
    "vader_neg_sentiment_score = [item['compound'] for item in vader_neg_sentiment_score]\n",
    "\n",
    "neg_reviews_scored_vader = pd.Series(vader_neg_sentiment_score)\n",
    "plt.bar(range(0, 15), neg_reviews_scored_vader.sort_values(ascending=False))\n",
    "plt.xlabel(\"Reviews with negative ACTUAL polarity\")\n",
    "plt.ylabel(\"Vader Score\")\n",
    "plt.title(\"Vader Scores for ACTUAL Positive Reviews \\n (in decreasing order of Afinn scores)\")\n",
    "plt.show()"
   ]
  },
  {
   "cell_type": "markdown",
   "metadata": {},
   "source": [
    "##### SVM trial "
   ]
  },
  {
   "cell_type": "code",
   "execution_count": 14,
   "metadata": {},
   "outputs": [
    {
     "name": "stderr",
     "output_type": "stream",
     "text": [
      "C:\\Users\\13159\\anaconda3\\lib\\site-packages\\sklearn\\linear_model\\_base.py:309: DeprecationWarning: `np.int` is a deprecated alias for the builtin `int`. To silence this warning, use `int` by itself. Doing this will not modify any behavior and is safe. When replacing `np.int`, you may wish to use e.g. `np.int64` or `np.int32` to specify the precision. If you wish to review your current use, check the release note link for additional information.\n",
      "Deprecated in NumPy 1.20; for more details and guidance: https://numpy.org/devdocs/release/1.20.0-notes.html#deprecations\n",
      "  indices = (scores > 0).astype(np.int)\n"
     ]
    }
   ],
   "source": [
    "# Normalize the text for reviews and name the normalized corpora of review texts normalized_test_reviews and normalized_train_reviews\n",
    "normalized_test_reviews = normalize_corpus(np.array(testing_puzzel[\"reviewText\"]))\n",
    "normalized_train_reviews = normalize_corpus(np.array(training_puzzel[\"reviewText\"]))\n",
    "\n",
    "vectorizer = TfidfVectorizer(ngram_range = (1,2)) \n",
    "feature_matrix_TRAIN = vectorizer.fit_transform(normalized_train_reviews).astype(float)\n",
    "\n",
    "feature_matrix_TRAIN_names = vectorizer.get_feature_names() \n",
    "feature_matrix_TRAIN_table = pd.DataFrame(data = feature_matrix_TRAIN.todense(), \n",
    "                                          columns = feature_matrix_TRAIN_names)\n",
    "\n",
    "feature_matrix_TEST = vectorizer.transform(normalized_test_reviews)\n",
    "\n",
    "\n",
    "\n",
    "svm = linear_model.SGDClassifier(loss='hinge', random_state = 0) \n",
    "svm.fit(feature_matrix_TRAIN, np.array(training_puzzel[\"polarity\"]))\n",
    "predicted_svm = svm.predict(feature_matrix_TEST) "
   ]
  },
  {
   "cell_type": "code",
   "execution_count": 15,
   "metadata": {},
   "outputs": [
    {
     "name": "stdout",
     "output_type": "stream",
     "text": [
      "Accuracy rate: 0.85\n"
     ]
    }
   ],
   "source": [
    "print('Accuracy rate:', np.round(metrics.accuracy_score(np.array(testing_puzzel[\"polarity\"]), predicted_svm), 3))"
   ]
  },
  {
   "cell_type": "code",
   "execution_count": 16,
   "metadata": {},
   "outputs": [
    {
     "data": {
      "text/plain": [
       "array(['positive', 'positive', 'positive', 'positive', 'positive',\n",
       "       'positive', 'positive', 'positive', 'positive', 'positive',\n",
       "       'positive', 'positive', 'positive', 'positive', 'positive',\n",
       "       'positive', 'positive', 'positive', 'positive', 'positive',\n",
       "       'positive', 'positive', 'positive', 'positive', 'positive',\n",
       "       'positive', 'positive', 'positive', 'positive', 'positive',\n",
       "       'positive', 'positive', 'positive', 'positive', 'positive',\n",
       "       'positive', 'positive', 'positive', 'positive', 'positive',\n",
       "       'positive', 'positive', 'positive', 'positive', 'positive',\n",
       "       'positive', 'positive', 'positive', 'positive', 'positive',\n",
       "       'positive', 'positive', 'positive', 'positive', 'positive',\n",
       "       'positive', 'positive', 'positive', 'positive', 'positive',\n",
       "       'positive', 'positive', 'positive', 'positive', 'positive',\n",
       "       'positive', 'positive', 'positive', 'positive', 'positive',\n",
       "       'positive', 'positive', 'positive', 'positive', 'positive',\n",
       "       'positive', 'positive', 'positive', 'positive', 'positive',\n",
       "       'positive', 'positive', 'positive', 'positive', 'positive',\n",
       "       'positive', 'positive', 'positive', 'positive', 'positive',\n",
       "       'positive', 'positive', 'positive', 'positive', 'positive',\n",
       "       'positive', 'positive', 'positive', 'positive', 'positive'],\n",
       "      dtype='<U8')"
      ]
     },
     "execution_count": 16,
     "metadata": {},
     "output_type": "execute_result"
    }
   ],
   "source": [
    "predicted_svm"
   ]
  },
  {
   "cell_type": "markdown",
   "metadata": {},
   "source": [
    "## Sentiment Analysis conclusion\n",
    "<font color = green>Vader sentiment analyzer is the most appropriate analyzer. Details are explained in Report Paper"
   ]
  },
  {
   "cell_type": "code",
   "execution_count": 17,
   "metadata": {},
   "outputs": [
    {
     "name": "stderr",
     "output_type": "stream",
     "text": [
      "<ipython-input-17-6f503cfe38aa>:5: SettingWithCopyWarning: \n",
      "A value is trying to be set on a copy of a slice from a DataFrame.\n",
      "Try using .loc[row_indexer,col_indexer] = value instead\n",
      "\n",
      "See the caveats in the documentation: https://pandas.pydata.org/pandas-docs/stable/user_guide/indexing.html#returning-a-view-versus-a-copy\n",
      "  puzzel[\"polarity\"] = vader_sentiment_predictoin\n"
     ]
    }
   ],
   "source": [
    "# Replace polarity with the vader prediction results instead of overall rating\n",
    "analyzer = SentimentIntensityAnalyzer()\n",
    "vader_sentiment_score = [analyzer.polarity_scores(puzzel[\"reviewText\"].iloc[i]) for i in range(309)]\n",
    "vader_sentiment_predictoin = [\"positive\" if item['compound'] > 0.1 else \"negative\" for item in vader_sentiment_score]\n",
    "puzzel[\"polarity\"] = vader_sentiment_predictoin\n",
    "puzzle = puzzel"
   ]
  },
  {
   "cell_type": "code",
   "execution_count": 18,
   "metadata": {},
   "outputs": [
    {
     "name": "stderr",
     "output_type": "stream",
     "text": [
      "ERROR: Invalid requirement: '#visualizing'\n"
     ]
    }
   ],
   "source": [
    "from pprint import pprint\n",
    "!{sys.executable} -m pip install pyLDAvis #visualizing LDA\n",
    "import pyLDAvis\n",
    "import pyLDAvis.sklearn\n",
    "\n",
    "import matplotlib.pyplot as plt\n",
    "%matplotlib inline\n"
   ]
  },
  {
   "cell_type": "markdown",
   "metadata": {},
   "source": [
    "# <font color=red> Step3\n",
    "## <font color=blue> Topic Modeling\n",
    "<br>we decided to use the results of vader sentiment analyzer in Topic Modeling\n",
    "1. Topic Model (via Latent Dirichlet Allocation) on puzzle dataset (The dataset contains one product that has the most number of reviews)\n",
    "2. Visualize topics in a text corpus\n",
    "3. Evaluate and discriminate between topic models"
   ]
  },
  {
   "cell_type": "markdown",
   "metadata": {},
   "source": [
    "Below we define two functions that will display the results of fitting a topic model, to be used later\n",
    "<br> Author: Dr. Yulia Nevskaya"
   ]
  },
  {
   "cell_type": "code",
   "execution_count": 19,
   "metadata": {},
   "outputs": [],
   "source": [
    "def display_topics(model, feature_names, no_top_words):\n",
    "    for topic_idx, topic in enumerate(model.components_):\n",
    "        print(\"Topic %d:\" % (topic_idx))\n",
    "        print(\" \".join([feature_names[i]\n",
    "                        for i in topic.argsort()[:-no_top_words - 1:-1]]))\n",
    "        \n",
    "def get_topic_words(vectorizer, lda_model, n_words):\n",
    "    keywords = np.array(vectorizer.get_feature_names())\n",
    "    topic_words = []\n",
    "    for topic_weights in lda_model.components_:\n",
    "        top_word_locs = (-topic_weights).argsort()[:n_words]\n",
    "        topic_words.append(keywords.take(top_word_locs).tolist())\n",
    "    return topic_words"
   ]
  },
  {
   "cell_type": "code",
   "execution_count": 20,
   "metadata": {},
   "outputs": [],
   "source": [
    "# Split data\n",
    "pos_puzzle = puzzle.loc[puzzle[\"polarity\"] == \"positive\"]\n",
    "neg_puzzle = puzzle.loc[puzzle[\"polarity\"] == \"negative\"]\n",
    "\n",
    "# Normalize two data\n",
    "normalized_pos_reviews = normalize_corpus(np.array(pos_puzzle[\"reviewText\"]))\n",
    "normalized_neg_reviews = normalize_corpus(np.array(neg_puzzle[\"reviewText\"]))"
   ]
  },
  {
   "cell_type": "markdown",
   "metadata": {},
   "source": [
    "### Positive Reviews Topic Modeling"
   ]
  },
  {
   "cell_type": "code",
   "execution_count": 21,
   "metadata": {},
   "outputs": [
    {
     "name": "stderr",
     "output_type": "stream",
     "text": [
      "C:\\Users\\13159\\anaconda3\\lib\\site-packages\\sklearn\\metrics\\pairwise.py:57: DeprecationWarning: `np.float` is a deprecated alias for the builtin `float`. To silence this warning, use `float` by itself. Doing this will not modify any behavior and is safe. If you specifically wanted the numpy scalar type, use `np.float64` here.\n",
      "Deprecated in NumPy 1.20; for more details and guidance: https://numpy.org/devdocs/release/1.20.0-notes.html#deprecations\n",
      "  dtype = np.float\n",
      "C:\\Users\\13159\\anaconda3\\lib\\site-packages\\sklearn\\manifold\\_t_sne.py:349: DeprecationWarning: `np.float` is a deprecated alias for the builtin `float`. To silence this warning, use `float` by itself. Doing this will not modify any behavior and is safe. If you specifically wanted the numpy scalar type, use `np.float64` here.\n",
      "Deprecated in NumPy 1.20; for more details and guidance: https://numpy.org/devdocs/release/1.20.0-notes.html#deprecations\n",
      "  error = np.finfo(np.float).max\n",
      "C:\\Users\\13159\\anaconda3\\lib\\site-packages\\sklearn\\manifold\\_t_sne.py:350: DeprecationWarning: `np.float` is a deprecated alias for the builtin `float`. To silence this warning, use `float` by itself. Doing this will not modify any behavior and is safe. If you specifically wanted the numpy scalar type, use `np.float64` here.\n",
      "Deprecated in NumPy 1.20; for more details and guidance: https://numpy.org/devdocs/release/1.20.0-notes.html#deprecations\n",
      "  best_error = np.finfo(np.float).max\n",
      "C:\\Users\\13159\\anaconda3\\lib\\site-packages\\sklearn\\manifold\\_t_sne.py:349: DeprecationWarning: `np.float` is a deprecated alias for the builtin `float`. To silence this warning, use `float` by itself. Doing this will not modify any behavior and is safe. If you specifically wanted the numpy scalar type, use `np.float64` here.\n",
      "Deprecated in NumPy 1.20; for more details and guidance: https://numpy.org/devdocs/release/1.20.0-notes.html#deprecations\n",
      "  error = np.finfo(np.float).max\n",
      "C:\\Users\\13159\\anaconda3\\lib\\site-packages\\sklearn\\manifold\\_t_sne.py:350: DeprecationWarning: `np.float` is a deprecated alias for the builtin `float`. To silence this warning, use `float` by itself. Doing this will not modify any behavior and is safe. If you specifically wanted the numpy scalar type, use `np.float64` here.\n",
      "Deprecated in NumPy 1.20; for more details and guidance: https://numpy.org/devdocs/release/1.20.0-notes.html#deprecations\n",
      "  best_error = np.finfo(np.float).max\n"
     ]
    },
    {
     "data": {
      "text/html": [
       "\n",
       "<link rel=\"stylesheet\" type=\"text/css\" href=\"https://cdn.jsdelivr.net/gh/bmabey/pyLDAvis@3.3.1/pyLDAvis/js/ldavis.v1.0.0.css\">\n",
       "\n",
       "\n",
       "<div id=\"ldavis_el2322015895847120807046056278\"></div>\n",
       "<script type=\"text/javascript\">\n",
       "\n",
       "var ldavis_el2322015895847120807046056278_data = {\"mdsDat\": {\"x\": [269.5624084472656, 1.782994270324707, 220.81143188476562, 50.533992767333984], \"y\": [-124.80339813232422, -295.0796813964844, -343.8321228027344, -76.05093383789062], \"topics\": [1, 2, 3, 4], \"cluster\": [1, 1, 1, 1], \"Freq\": [65.11554342267635, 22.45654242734837, 10.443412347489858, 1.9845018024854215]}, \"tinfo\": {\"Term\": [\"card\", \"game\", \"player\", \"answer\", \"party\", \"question\", \"white\", \"love\", \"many\", \"drink\", \"hour\", \"black\", \"laugh\", \"however\", \"mind\", \"give\", \"people\", \"great\", \"though\", \"friend\", \"humanity\", \"blank\", \"offend\", \"gathering\", \"idea\", \"win\", \"point\", \"draw\", \"stranger\", \"rule\", \"kid\", \"right\", \"dirty\", \"raunchy\", \"laughter\", \"wait\", \"humor\", \"need\", \"far\", \"probably\", \"whole\", \"totally\", \"enough\", \"similar\", \"twisted\", \"hurt\", \"cry\", \"small\", \"love\", \"sensitive\", \"gift\", \"audience\", \"pack\", \"easily\", \"amazon\", \"appropriate\", \"money\", \"neighbor\", \"help\", \"bed\", \"fun\", \"adult\", \"hilarious\", \"could\", \"friend\", \"play\", \"apple\", \"offend\", \"year\", \"really\", \"even\", \"good\", \"night\", \"game\", \"people\", \"time\", \"first\", \"group\", \"much\", \"think\", \"expansion\", \"buy\", \"laugh\", \"party\", \"lot\", \"great\", \"like\", \"card\", \"well\", \"definitely\", \"funny\", \"point\", \"draw\", \"pile\", \"become\", \"interesting\", \"czar\", \"submit\", \"ten\", \"judge\", \"additional\", \"apples\", \"grab\", \"rando\", \"name\", \"lay\", \"stock\", \"crass\", \"master\", \"inner\", \"stack\", \"etc\", \"tend\", \"semi\", \"flip\", \"downside\", \"soon\", \"completely\", \"bottom\", \"extremely\", \"support\", \"question\", \"player\", \"white\", \"blank\", \"answer\", \"black\", \"card\", \"website\", \"reference\", \"fill\", \"copy\", \"win\", \"rule\", \"still\", \"humanity\", \"read\", \"round\", \"game\", \"usually\", \"funny\", \"choose\", \"may\", \"know\", \"great\", \"use\", \"like\", \"play\", \"box\", \"awesome\", \"review\", \"laugh\", \"expansion\", \"everyone\", \"way\", \"apple\", \"people\", \"time\", \"perhaps\", \"slight\", \"month\", \"indeed\", \"issue\", \"likely\", \"particular\", \"typos\", \"durable\", \"code\", \"laughing\", \"ago\", \"buzz\", \"cuss\", \"beverage\", \"boy\", \"cringe\", \"quiet\", \"bought\", \"endless\", \"full\", \"past\", \"appear\", \"backstory\", \"bizarre\", \"blip\", \"burn\", \"console\", \"countless\", \"despite\", \"along\", \"imagine\", \"several\", \"however\", \"literally\", \"involve\", \"dozen\", \"obviously\", \"many\", \"give\", \"card\", \"game\", \"hour\", \"party\", \"black\", \"drink\", \"laugh\", \"white\", \"print\", \"mind\", \"people\", \"great\", \"real\", \"purchase\", \"take\", \"thing\", \"crude\", \"drinking\", \"play\", \"best\", \"like\", \"friend\", \"apple\", \"time\", \"definitely\", \"love\", \"expansion\", \"fun\", \"though\", \"much\", \"immensely\", \"wit\", \"toy\", \"remind\", \"arouse\", \"imaginable\", \"packman\", \"wonderfully\", \"morally\", \"personality\", \"puritanically\", \"rear\", \"repressive\", \"repugnant\", \"system\", \"alternate\", \"directions\", \"rules\", \"suggested\", \"classic\", \"complex\", \"grand\", \"immediate\", \"inebriate\", \"instant\", \"outlandish\", \"peace\", \"prudent\", \"state\", \"church\", \"guarantee\", \"investment\", \"idea\", \"combine\", \"stranger\", \"gathering\", \"live\", \"icebreaker\", \"slow\", \"amuse\", \"senior\", \"city\", \"citizen\", \"law\", \"notice\"], \"Freq\": [264.0, 535.0, 34.0, 32.0, 57.0, 21.0, 23.0, 75.0, 22.0, 23.0, 18.0, 16.0, 85.0, 13.0, 18.0, 18.0, 107.0, 89.0, 21.0, 103.0, 24.0, 11.0, 36.0, 5.0, 4.0, 15.0, 8.0, 8.0, 4.0, 15.0, 24.71616711600897, 17.464289232200485, 14.737651101455187, 14.715224489670454, 14.721914353327124, 13.824146137056308, 39.80813884562104, 12.922005499231243, 12.023000859667835, 11.10435203498607, 10.20197211950658, 10.18453191880725, 10.181204247417444, 9.298635878441967, 9.29574363328941, 8.39508334562751, 8.382829324006106, 8.375137532352293, 71.33574218452438, 7.482173197802203, 7.466570186235571, 7.46046541018046, 26.10391944442847, 30.882163795505118, 7.444651004663352, 7.444865937898836, 6.575776091301194, 6.568139882740927, 6.55503276153879, 6.554978471090304, 128.2116751443382, 61.034738404704164, 30.681005777535447, 21.37059747390104, 94.36632324202301, 266.9124998454267, 126.44953445365164, 33.33672205781483, 17.266324088429286, 48.72452754140041, 27.585763879052827, 44.762322183918414, 34.09316646234074, 430.48606906798295, 92.53781956618143, 76.5770323574707, 26.707070101273743, 43.46332165663169, 46.27112440657974, 38.46403405700101, 58.140772482676816, 48.92998498870904, 67.76612440342929, 46.758269949728906, 30.834238747023708, 66.91532065819737, 52.987934646751846, 104.1507659538168, 30.833800784337168, 28.75699898040184, 33.14113152454226, 8.515308368912141, 8.51485914069951, 6.020924188818421, 6.018314127103311, 6.0145008905278585, 5.192260766043421, 5.192259119784537, 4.359857560545703, 4.359038087852001, 4.35298626377234, 4.310491899666145, 3.529694423778112, 3.5294626388979093, 3.5288657261697827, 3.528062016243872, 3.523411065121575, 3.4571429007372463, 2.6999679613923933, 2.699967717075594, 2.6999675294483643, 2.699110890043593, 2.6985468745140753, 2.6961737164474324, 2.695445952562, 2.695378862688296, 2.693330806637916, 2.6932689741192575, 2.693205540921543, 2.6902561001990892, 2.683817350550703, 17.84746140535844, 25.985534426843596, 17.569492879117167, 9.345355105353539, 22.359090236457174, 11.833961723104755, 135.9958252646733, 5.633728572994941, 4.361321005781793, 8.79780486970551, 4.337917805175173, 10.17402386517315, 9.273114395217618, 5.653055497967995, 11.133705432565513, 9.454947175632231, 8.664343661236252, 68.22068406106915, 5.778871231623231, 15.723327928926862, 7.005734969330922, 8.043769965736663, 11.303677874485038, 16.187523778407588, 7.514556283394888, 13.537205438235306, 22.71133626418695, 7.667016860970044, 7.540907444942561, 6.262399920178775, 9.579708738355606, 8.330896354282075, 7.536114547886951, 6.974662313239281, 8.10447598893361, 7.8790402826330155, 7.541909130048751, 2.2755790730508534, 2.27419632693778, 2.2740348279990013, 1.5754001466020173, 1.5754001466020173, 1.5754001466020173, 1.5754001466020173, 1.5754001466020173, 1.5753955199652676, 1.5753748845949767, 1.5753675713518038, 1.5742178502392268, 1.5732017485886256, 1.571155441638849, 1.5702195065786813, 1.5699506541350774, 1.5698858351790697, 1.5694396787876106, 1.5689607019461618, 1.5676279205361996, 1.5670085911297513, 1.5657908629463204, 0.8752210528154021, 0.8752210528154021, 0.8752210528154021, 0.8752210528154021, 0.8752210528154021, 0.8752210528154021, 0.8752210528154021, 0.8752210528154021, 2.272044254221951, 2.1996451120359124, 2.8508329075521983, 5.497329526187715, 1.576610890273787, 2.2192144211129143, 1.5688357407245215, 1.577963664032797, 6.7438159195060585, 4.967616328494745, 24.009262405918374, 36.62717643635322, 4.827978963421526, 8.19385085685514, 4.377515230699209, 4.636881654820368, 8.086241178927184, 4.367472353753532, 2.9847016988845687, 3.7897396564387393, 7.214086660264804, 6.672659863429572, 2.2782857586452248, 3.3894071123557086, 3.684145231259208, 3.767303740056705, 2.404532428711115, 2.572225299396267, 7.925766830647392, 4.043091342293943, 4.950306799305107, 5.131196439505014, 5.367840295760123, 4.407614080987077, 3.527126017638442, 4.120487303082276, 3.962862625069863, 4.4053747363195335, 3.1206376676472822, 3.2939843287334836, 0.7128927553063913, 0.7127032136221674, 0.7126160101522006, 0.7116734097738544, 0.39613138554748967, 0.39613138554748967, 0.39613138554748967, 0.39613138554748967, 0.39597601163810486, 0.39597601163810486, 0.39597601163810486, 0.39597601163810486, 0.39597601163810486, 0.39597601163810486, 0.39597601163810486, 0.39565797104816575, 0.39565797104816575, 0.39565797104816575, 0.39565797104816575, 0.3956142048631006, 0.3956142048631006, 0.3956142048631006, 0.3956142048631006, 0.3956142048631006, 0.3956142048631006, 0.3956142048631006, 0.3956142048631006, 0.3956142048631006, 0.3956142048631006, 0.39551871777057973, 0.7124952506418623, 0.6703073349426252, 1.0415116952543177, 0.5955212907901184, 0.517562123655688, 0.4384080789999487, 0.4008148549460502, 0.3975617074189689, 0.39730650699195785, 0.39697648483929737, 0.39674340934795366, 0.3963215523111426, 0.3961710216727218, 0.3961437163041875, 0.39602202428311656], \"Total\": [264.0, 535.0, 34.0, 32.0, 57.0, 21.0, 23.0, 75.0, 22.0, 23.0, 18.0, 16.0, 85.0, 13.0, 18.0, 18.0, 107.0, 89.0, 21.0, 103.0, 24.0, 11.0, 36.0, 5.0, 4.0, 15.0, 8.0, 8.0, 4.0, 15.0, 25.189466870544482, 17.932154857133455, 15.209268575841616, 15.194451280561195, 15.205996846432138, 14.301002705753133, 41.24349530181882, 13.39192846313528, 12.487341168854336, 11.57630899048597, 10.671183336903193, 10.656127106780158, 10.654215060848886, 9.764433278826091, 9.76416374893472, 8.857192690013644, 8.853914224484429, 8.852447666523563, 75.75533127381733, 7.947809821274028, 7.944871196464595, 7.944469086377977, 27.80162725728053, 32.90116797600829, 7.943454040546966, 7.9459788151797035, 7.03933233857757, 7.041018421847828, 7.033593900392377, 7.0369522319159685, 137.83819261332243, 65.64999863173473, 33.020110278655494, 23.02648086082001, 103.26998952808168, 297.6300621055225, 140.00238019299817, 36.259455172220754, 18.585291897439806, 53.80762700209301, 30.047173693533328, 49.86285564065609, 37.614515102414344, 535.4144158186359, 107.71117362814704, 88.6067510848475, 29.353068356031347, 50.67239579807217, 54.678967371337045, 44.63079563007338, 70.5143682739839, 58.30474734679609, 85.51266412553852, 57.13054550132134, 36.036531802044045, 89.85685542289879, 71.55538085594642, 264.23664434236946, 38.53707291883183, 34.878251874551886, 50.55836488725373, 8.996551638853859, 8.996590256417287, 6.504448786437907, 6.504685786075729, 6.505002273248649, 5.673502699704167, 5.67350198900494, 4.842884799038874, 4.842956330601257, 4.843474182095826, 4.847269191931966, 4.012070215558118, 4.012094237147983, 4.01212889399336, 4.012214461914928, 4.012632806218775, 4.018628912145633, 3.181212928919219, 3.1812128419203285, 3.1812127445324396, 3.1812814852120024, 3.1813426157932327, 3.1815247443951673, 3.181619811714583, 3.1816092015513218, 3.1817747215822894, 3.1817746042866424, 3.1818232492183673, 3.182066211824994, 3.1826727120388747, 21.744120848920545, 34.19337068366698, 23.253915645794592, 11.928174826092828, 32.21854377159728, 16.520654732712096, 264.23664434236946, 7.44781334298476, 5.54530941434577, 12.596636990026326, 5.544208849456647, 15.687968496576152, 15.277756675971643, 8.145863290095317, 24.303342730209284, 19.32279225836822, 17.43471403735638, 535.4144158186359, 9.041679868320742, 50.55836488725373, 12.758589857480207, 18.096893154735284, 39.38007073562715, 89.85685542289879, 17.246198631706207, 71.55538085594642, 297.6300621055225, 20.871497456435414, 24.514438137511526, 11.904061576563954, 85.51266412553852, 70.5143682739839, 35.496731928240976, 27.827638622235035, 140.00238019299817, 107.71117362814704, 88.6067510848475, 2.7894656601917895, 2.7898674538100927, 2.789900354059417, 2.0892867915674893, 2.0892867915674893, 2.0892867915674893, 2.0892867915674893, 2.0892867915674893, 2.089285309163331, 2.0892786392438296, 2.0892759206209295, 2.08962302812385, 2.0899258308687814, 2.0905260188260435, 2.0907958603949655, 2.0908862533126578, 2.090897924424282, 2.091007992282857, 2.0911539337829477, 2.0915453985373076, 2.091712016853728, 2.0920519329108958, 1.3891078683547442, 1.3891078683547442, 1.3891078683547442, 1.3891078683547442, 1.3891078683547442, 1.3891078683547442, 1.3891078683547442, 1.3891078683547442, 3.6214745901008816, 3.7194629121534124, 5.34177963278416, 13.505997192960471, 2.920515425567118, 4.544487435978028, 2.9218311310662344, 2.996076712994878, 22.821604499657226, 18.721102834867338, 264.23664434236946, 535.4144158186359, 18.368999614445872, 57.13054550132134, 16.520654732712096, 23.871669802596333, 85.51266412553852, 23.253915645794592, 9.665899627898145, 18.676785682309816, 107.71117362814704, 89.85685542289879, 5.405164520082005, 17.476756230922764, 25.507023771387296, 28.21340438128947, 7.288610046940903, 9.054328650173899, 297.6300621055225, 37.191999969087874, 71.55538085594642, 103.26998952808168, 140.00238019299817, 88.6067510848475, 34.878251874551886, 75.75533127381733, 70.5143682739839, 137.83819261332243, 21.595450783330286, 54.678967371337045, 1.3247467993415303, 1.3250988146994214, 1.325259641166277, 1.3270127253282575, 1.0067667090536763, 1.0067667090536763, 1.0067667090536763, 1.0067667090536763, 1.0070571712587253, 1.0070571712587253, 1.0070571712587253, 1.0070571712587253, 1.0070571712587253, 1.0070571712587253, 1.0070571712587253, 1.0076482141092828, 1.0076482141092828, 1.0076482141092828, 1.0076482141092828, 1.0077317390565605, 1.0077317390565605, 1.0077317390565605, 1.0077317390565605, 1.0077317390565605, 1.0077317390565605, 1.0077317390565605, 1.0077317390565605, 1.0077317390565605, 1.0077317390565605, 1.0079088113291206, 2.15632637120076, 2.309727490657072, 4.6918468059464296, 3.209343228057748, 4.409087053941701, 5.463940208762512, 2.5379425198414953, 3.3682813935049216, 1.7235226533330463, 1.8373151209655385, 1.8376067969866692, 1.8392346479782822, 1.8382000365454023, 1.837677000067894, 1.8381875291176593], \"Category\": [\"Default\", \"Default\", \"Default\", \"Default\", \"Default\", \"Default\", \"Default\", \"Default\", \"Default\", \"Default\", \"Default\", \"Default\", \"Default\", \"Default\", \"Default\", \"Default\", \"Default\", \"Default\", \"Default\", \"Default\", \"Default\", \"Default\", \"Default\", \"Default\", \"Default\", \"Default\", \"Default\", \"Default\", \"Default\", \"Default\", \"Topic1\", \"Topic1\", \"Topic1\", \"Topic1\", \"Topic1\", \"Topic1\", \"Topic1\", \"Topic1\", \"Topic1\", \"Topic1\", \"Topic1\", \"Topic1\", \"Topic1\", \"Topic1\", \"Topic1\", \"Topic1\", \"Topic1\", \"Topic1\", \"Topic1\", \"Topic1\", \"Topic1\", \"Topic1\", \"Topic1\", \"Topic1\", \"Topic1\", \"Topic1\", \"Topic1\", \"Topic1\", \"Topic1\", \"Topic1\", \"Topic1\", \"Topic1\", \"Topic1\", \"Topic1\", \"Topic1\", \"Topic1\", \"Topic1\", \"Topic1\", \"Topic1\", \"Topic1\", \"Topic1\", \"Topic1\", \"Topic1\", \"Topic1\", \"Topic1\", \"Topic1\", \"Topic1\", \"Topic1\", \"Topic1\", \"Topic1\", \"Topic1\", \"Topic1\", \"Topic1\", \"Topic1\", \"Topic1\", \"Topic1\", \"Topic1\", \"Topic1\", \"Topic1\", \"Topic1\", \"Topic1\", \"Topic2\", \"Topic2\", \"Topic2\", \"Topic2\", \"Topic2\", \"Topic2\", \"Topic2\", \"Topic2\", \"Topic2\", \"Topic2\", \"Topic2\", \"Topic2\", \"Topic2\", \"Topic2\", \"Topic2\", \"Topic2\", \"Topic2\", \"Topic2\", \"Topic2\", \"Topic2\", \"Topic2\", \"Topic2\", \"Topic2\", \"Topic2\", \"Topic2\", \"Topic2\", \"Topic2\", \"Topic2\", \"Topic2\", \"Topic2\", \"Topic2\", \"Topic2\", \"Topic2\", \"Topic2\", \"Topic2\", \"Topic2\", \"Topic2\", \"Topic2\", \"Topic2\", \"Topic2\", \"Topic2\", \"Topic2\", \"Topic2\", \"Topic2\", \"Topic2\", \"Topic2\", \"Topic2\", \"Topic2\", \"Topic2\", \"Topic2\", \"Topic2\", \"Topic2\", \"Topic2\", \"Topic2\", \"Topic2\", \"Topic2\", \"Topic2\", \"Topic2\", \"Topic2\", \"Topic2\", \"Topic2\", \"Topic2\", \"Topic2\", \"Topic2\", \"Topic2\", \"Topic2\", \"Topic2\", \"Topic3\", \"Topic3\", \"Topic3\", \"Topic3\", \"Topic3\", \"Topic3\", \"Topic3\", \"Topic3\", \"Topic3\", \"Topic3\", \"Topic3\", \"Topic3\", \"Topic3\", \"Topic3\", \"Topic3\", \"Topic3\", \"Topic3\", \"Topic3\", \"Topic3\", \"Topic3\", \"Topic3\", \"Topic3\", \"Topic3\", \"Topic3\", \"Topic3\", \"Topic3\", \"Topic3\", \"Topic3\", \"Topic3\", \"Topic3\", \"Topic3\", \"Topic3\", \"Topic3\", \"Topic3\", \"Topic3\", \"Topic3\", \"Topic3\", \"Topic3\", \"Topic3\", \"Topic3\", \"Topic3\", \"Topic3\", \"Topic3\", \"Topic3\", \"Topic3\", \"Topic3\", \"Topic3\", \"Topic3\", \"Topic3\", \"Topic3\", \"Topic3\", \"Topic3\", \"Topic3\", \"Topic3\", \"Topic3\", \"Topic3\", \"Topic3\", \"Topic3\", \"Topic3\", \"Topic3\", \"Topic3\", \"Topic3\", \"Topic3\", \"Topic3\", \"Topic3\", \"Topic3\", \"Topic3\", \"Topic3\", \"Topic3\", \"Topic3\", \"Topic4\", \"Topic4\", \"Topic4\", \"Topic4\", \"Topic4\", \"Topic4\", \"Topic4\", \"Topic4\", \"Topic4\", \"Topic4\", \"Topic4\", \"Topic4\", \"Topic4\", \"Topic4\", \"Topic4\", \"Topic4\", \"Topic4\", \"Topic4\", \"Topic4\", \"Topic4\", \"Topic4\", \"Topic4\", \"Topic4\", \"Topic4\", \"Topic4\", \"Topic4\", \"Topic4\", \"Topic4\", \"Topic4\", \"Topic4\", \"Topic4\", \"Topic4\", \"Topic4\", \"Topic4\", \"Topic4\", \"Topic4\", \"Topic4\", \"Topic4\", \"Topic4\", \"Topic4\", \"Topic4\", \"Topic4\", \"Topic4\", \"Topic4\", \"Topic4\"], \"logprob\": [30.0, 29.0, 28.0, 27.0, 26.0, 25.0, 24.0, 23.0, 22.0, 21.0, 20.0, 19.0, 18.0, 17.0, 16.0, 15.0, 14.0, 13.0, 12.0, 11.0, 10.0, 9.0, 8.0, 7.0, 6.0, 5.0, 4.0, 3.0, 2.0, 1.0, -5.4627, -5.81, -5.9798, -5.9813, -5.9808, -6.0438, -4.9861, -6.1112, -6.1834, -6.2628, -6.3476, -6.3493, -6.3496, -6.4403, -6.4406, -6.5425, -6.544, -6.5449, -4.4028, -6.6577, -6.6597, -6.6606, -5.4081, -5.24, -6.6627, -6.6627, -6.7868, -6.7879, -6.7899, -6.79, -3.8165, -4.5587, -5.2465, -5.6082, -4.123, -3.0833, -3.8303, -5.1635, -5.8214, -4.784, -5.3529, -4.8688, -5.1411, -2.6053, -4.1426, -4.3319, -5.3853, -4.8983, -4.8357, -5.0205, -4.6073, -4.7798, -4.4541, -4.8252, -5.2416, -4.4668, -4.7001, -4.0243, -5.2416, -5.3113, -5.1694, -5.4637, -5.4638, -5.8104, -5.8108, -5.8114, -5.9584, -5.9584, -6.1332, -6.1333, -6.1347, -6.1445, -6.3444, -6.3445, -6.3446, -6.3448, -6.3462, -6.3652, -6.6124, -6.6124, -6.6124, -6.6127, -6.6129, -6.6138, -6.614, -6.6141, -6.6148, -6.6148, -6.6149, -6.616, -6.6184, -4.7237, -4.3481, -4.7394, -5.3707, -4.4984, -5.1346, -2.693, -5.8768, -6.1328, -5.4311, -6.1382, -5.2858, -5.3785, -5.8734, -5.1956, -5.3591, -5.4464, -3.3828, -5.8514, -4.8505, -5.6589, -5.5207, -5.1805, -4.8214, -5.5888, -5.0002, -4.4827, -5.5687, -5.5853, -5.771, -5.3459, -5.4856, -5.5859, -5.6633, -5.5132, -5.5414, -5.5851, -6.0178, -6.0184, -6.0184, -6.3855, -6.3855, -6.3855, -6.3855, -6.3855, -6.3855, -6.3855, -6.3855, -6.3862, -6.3869, -6.3882, -6.3888, -6.3889, -6.389, -6.3893, -6.3896, -6.3904, -6.3908, -6.3916, -6.9733, -6.9733, -6.9733, -6.9733, -6.9733, -6.9733, -6.9733, -6.9733, -6.0193, -6.0517, -5.7924, -5.1357, -6.3847, -6.0428, -6.3897, -6.3839, -4.9314, -5.237, -3.6615, -3.2392, -5.2656, -4.7366, -5.3635, -5.3059, -4.7498, -5.3658, -5.7465, -5.5077, -4.864, -4.942, -6.0166, -5.6193, -5.5359, -5.5136, -5.9626, -5.8952, -4.7699, -5.443, -5.2405, -5.2046, -5.1596, -5.3567, -5.5795, -5.424, -5.463, -5.3572, -5.7019, -5.6479, -5.5178, -5.5181, -5.5182, -5.5195, -6.1054, -6.1054, -6.1054, -6.1054, -6.1058, -6.1058, -6.1058, -6.1058, -6.1058, -6.1058, -6.1058, -6.1066, -6.1066, -6.1066, -6.1066, -6.1067, -6.1067, -6.1067, -6.1067, -6.1067, -6.1067, -6.1067, -6.1067, -6.1067, -6.1067, -6.1069, -5.5184, -5.5794, -5.1387, -5.6977, -5.838, -6.004, -6.0936, -6.1018, -6.1024, -6.1033, -6.1038, -6.1049, -6.1053, -6.1054, -6.1057], \"loglift\": [30.0, 29.0, 28.0, 27.0, 26.0, 25.0, 24.0, 23.0, 22.0, 21.0, 20.0, 19.0, 18.0, 17.0, 16.0, 15.0, 14.0, 13.0, 12.0, 11.0, 10.0, 9.0, 8.0, 7.0, 6.0, 5.0, 4.0, 3.0, 2.0, 1.0, 0.41, 0.4026, 0.3975, 0.397, 0.3967, 0.3951, 0.3936, 0.3933, 0.3911, 0.3874, 0.384, 0.3837, 0.3836, 0.3801, 0.3798, 0.3754, 0.3743, 0.3736, 0.3689, 0.3686, 0.3669, 0.3661, 0.366, 0.3657, 0.3642, 0.3639, 0.3609, 0.3595, 0.3585, 0.3581, 0.3566, 0.3561, 0.3555, 0.3544, 0.3388, 0.3201, 0.3272, 0.345, 0.3554, 0.3298, 0.3435, 0.3211, 0.3307, 0.2109, 0.2772, 0.2831, 0.3345, 0.2755, 0.262, 0.2803, 0.2361, 0.2537, 0.1964, 0.2287, 0.2731, 0.1342, 0.1286, -0.502, 0.206, 0.236, 0.0067, 1.4386, 1.4386, 1.4163, 1.4159, 1.4152, 1.405, 1.405, 1.3885, 1.3883, 1.3868, 1.3762, 1.3655, 1.3654, 1.3652, 1.365, 1.3636, 1.3431, 1.3296, 1.3296, 1.3296, 1.3292, 1.329, 1.3281, 1.3278, 1.3277, 1.3269, 1.3269, 1.3269, 1.3257, 1.3231, 1.2961, 1.2191, 1.2133, 1.2496, 1.1283, 1.16, 0.8294, 1.2144, 1.2534, 1.1347, 1.2482, 1.0605, 0.9943, 1.1283, 0.713, 0.7788, 0.7943, -0.5667, 1.046, 0.3256, 0.8941, 0.6827, 0.2455, -0.2204, 0.6628, -0.1714, -1.0794, 0.4921, 0.3147, 0.8513, -0.6954, -0.6423, -0.0561, 0.1098, -1.3557, -1.1217, -0.9701, 2.0556, 2.0548, 2.0547, 1.9769, 1.9769, 1.9769, 1.9769, 1.9769, 1.9769, 1.9769, 1.9769, 1.976, 1.9752, 1.9736, 1.9729, 1.9727, 1.9726, 1.9723, 1.9719, 1.9709, 1.9704, 1.9694, 1.7973, 1.7973, 1.7973, 1.7973, 1.7973, 1.7973, 1.7973, 1.7973, 1.793, 1.7339, 1.6313, 1.3603, 1.6427, 1.5424, 1.6373, 1.618, 1.0401, 0.9325, -0.1392, -0.4231, 0.923, 0.3172, 0.9311, 0.6205, -0.0993, 0.5869, 1.0841, 0.6642, -0.4442, -0.341, 1.3953, 0.619, 0.3243, 0.2458, 1.1502, 1.0007, -1.3665, 0.0401, -0.4118, -0.7428, -1.002, -0.7417, -0.0322, -0.6523, -0.6197, -1.1841, 0.3248, -0.5502, 3.3002, 3.2996, 3.2994, 3.2967, 2.987, 2.987, 2.987, 2.987, 2.9864, 2.9864, 2.9864, 2.9864, 2.9864, 2.9864, 2.9864, 2.985, 2.985, 2.985, 2.985, 2.9848, 2.9848, 2.9848, 2.9848, 2.9848, 2.9848, 2.9848, 2.9848, 2.9848, 2.9848, 2.9844, 2.8124, 2.6827, 2.4146, 2.2354, 1.7775, 1.397, 2.0742, 1.783, 2.4524, 2.3876, 2.3869, 2.3849, 2.3851, 2.3853, 2.3847]}, \"token.table\": {\"Topic\": [2, 1, 2, 3, 2, 3, 1, 2, 1, 2, 3, 1, 2, 3, 2, 1, 1, 1, 2, 3, 2, 1, 1, 2, 3, 3, 3, 2, 3, 2, 3, 3, 2, 3, 1, 2, 3, 3, 1, 2, 3, 3, 1, 2, 3, 1, 2, 2, 2, 3, 1, 3, 4, 2, 3, 2, 3, 1, 3, 3, 2, 3, 1, 3, 1, 3, 2, 1, 2, 3, 3, 1, 2, 2, 3, 2, 1, 3, 1, 3, 3, 1, 3, 3, 1, 2, 1, 3, 1, 2, 3, 1, 2, 3, 2, 1, 1, 2, 1, 2, 3, 2, 1, 2, 3, 3, 1, 2, 3, 1, 2, 3, 1, 2, 3, 1, 1, 1, 2, 3, 1, 2, 3, 2, 1, 2, 3, 1, 2, 3, 2, 4, 1, 1, 2, 3, 1, 3, 1, 2, 3, 1, 2, 3, 1, 3, 1, 2, 3, 2, 3, 4, 1, 3, 4, 3, 2, 2, 1, 4, 1, 2, 3, 3, 2, 1, 1, 2, 3, 1, 2, 3, 3, 1, 2, 2, 1, 2, 3, 3, 2, 3, 2, 3, 1, 2, 3, 1, 3, 1, 2, 3, 2, 1, 2, 1, 3, 1, 3, 1, 2, 3, 2, 1, 1, 1, 2, 2, 1, 3, 1, 3, 1, 2, 3, 1, 2, 3, 3, 1, 2, 3, 3, 2, 1, 2, 3, 1, 2, 3, 2, 1, 2, 3, 1, 1, 2, 3, 1, 2, 3, 2, 1, 1, 2, 3, 1, 2, 3, 1, 2, 2, 3, 4, 1, 2, 1, 1, 2, 3, 1, 2, 2, 2, 1, 1, 3, 1, 3, 3, 1, 2, 2, 1, 2, 3, 2, 1, 4, 2, 2, 1, 2, 3, 2, 2, 1, 2, 3, 1, 2, 1, 3, 1, 2, 3, 1, 4, 1, 3, 1, 2, 1, 2, 3, 1, 1, 2, 3, 1, 2, 1, 2, 3, 1, 2, 3, 1, 1, 2, 3, 4, 1, 3], \"Freq\": [0.8258534782297848, 0.9291698594265171, 0.060929171109935544, 0.9571104323997055, 0.27613061340633166, 0.5522612268126633, 0.881228740579205, 0.5442724487427524, 0.3103802602281374, 0.6828365725019023, 0.7198864989400696, 0.8999846990194352, 0.05714188565202763, 0.03571367853251727, 0.8252069034370522, 0.8809487368160936, 0.8811161480888111, 0.6934688816704685, 0.32633829725669106, 0.7198864989400696, 0.9224119653625567, 0.9947488300761269, 0.7528500759107388, 0.13443751355548908, 0.10755001084439125, 0.9565735411501085, 0.7198864989400696, 0.7263634640483787, 0.2421211546827929, 0.7545161041999938, 0.16767024537777642, 0.7198864989400696, 0.9428556412544181, 0.9564097447297684, 0.6228589983605438, 0.38329784514495, 0.9565321866894175, 0.7198864989400696, 0.8404118400264812, 0.10290757224814055, 0.051453786124070276, 0.9569717596957021, 0.39358659075782076, 0.5146901571448426, 0.09082767479026632, 0.39189283893067234, 0.5486499745029413, 0.5440104341850287, 0.5437044159097464, 0.9572681989051771, 0.6231804633779771, 0.31159023168898853, 0.31159023168898853, 0.9428700562127352, 0.7198864989400696, 0.7214735426844563, 0.18036838567111407, 0.9119934620896368, 0.04342826009950652, 0.7198864989400696, 0.746523270892966, 0.9565268474551142, 0.6860018532749665, 0.2744007413099866, 0.9035551731320106, 0.956697014047747, 0.8812897895088188, 0.8314636898748696, 0.08601348515946927, 0.11468464687929236, 0.7198864989400696, 0.9862407205975692, 0.9429190733221506, 0.34225112785182765, 0.6845022557036553, 1.000379003987681, 0.7959225373473254, 0.20945329930192774, 0.662666469466487, 0.3313332347332435, 0.9572651428831966, 0.9422157907161646, 0.06078811553007513, 0.956230737998167, 0.9385956584213384, 0.9430162071307809, 0.931868011467118, 0.06656200081907986, 0.7042901879119232, 0.22537286013181543, 0.08451482254943078, 0.8225274000135793, 0.11345205517428679, 0.056726027587143395, 0.9427836507146171, 0.9609731837815202, 0.317545072003511, 0.7144764120078998, 0.9198356939216595, 0.06813597732753034, 0.03406798866376517, 0.9429159288467255, 0.9102353978106975, 0.03873342118343394, 0.04841677647929243, 0.9561545680692327, 0.9286250608282313, 0.03627441643860278, 0.029019533150882227, 0.6527109821211727, 0.3164659307254171, 0.03955824134067714, 0.8031162167020479, 0.12700442496683548, 0.06910534887901343, 0.9150905407020209, 0.8810715525652505, 0.42732525271429556, 0.32049393953572164, 0.2670782829464347, 0.9024753881787082, 0.06016502587858055, 0.04011001725238703, 0.9969915243478762, 0.7456303660380037, 0.17806098293444864, 0.07790168003382128, 0.8485882564415068, 0.11840766368951257, 0.01973461061491876, 0.4637516905398442, 0.4637516905398442, 0.9952237930042417, 0.938821819139674, 0.030284574810957227, 0.030284574810957227, 0.70771409836475, 0.2721977301402884, 0.4442470936634942, 0.14808236455449805, 0.37020591138624515, 0.41146603210141564, 0.4526126353115572, 0.1234398096304247, 0.9698499049918308, 0.02424624762479577, 0.9032207246681991, 0.5937746186695128, 0.2968873093347564, 0.4262713772890469, 0.4262713772890469, 0.21313568864452345, 0.26885602131761605, 0.5377120426352321, 0.7548612312156959, 0.9572644636782958, 0.9430365552620679, 0.9223670873528462, 0.432951507935475, 0.432951507935475, 0.2200468180598651, 0.2200468180598651, 0.4400936361197302, 0.9572644636782958, 0.8259417857487468, 0.9924783294732594, 0.6856259903965358, 0.27932910719858867, 0.025393555199871694, 0.7952038530827584, 0.11694174310040564, 0.09355339448032451, 0.957269444528707, 0.9864529206133256, 0.5441652695022327, 0.9969556807017992, 0.7406850381622359, 0.19565265159002457, 0.06987594699643734, 0.9572644636782958, 0.34240531354352144, 0.6848106270870429, 0.39401995600060086, 0.39401995600060086, 0.8602381652676586, 0.0554992364688812, 0.0832488547033218, 0.9372277674210253, 0.052801564361747905, 0.4819994142026787, 0.2190906428193994, 0.3067268999471592, 0.9430365294721772, 0.5525810377779333, 0.4420648302223466, 0.8031360564472089, 0.21416961505258905, 0.994412490178647, 0.7168714814813797, 0.8412741171135101, 0.09144283881668588, 0.05486570329001153, 0.9969769430858718, 0.9707339787384496, 0.9941743623734103, 0.9039063751699848, 0.07975644486793984, 0.544014135750342, 0.3337698249389616, 0.6675396498779232, 0.9101074421350407, 0.0827370401940946, 0.9351970573302061, 0.03596911758962331, 0.9572644636782958, 0.8226772488792875, 0.035007542505501595, 0.14003017002200638, 0.9559992123222227, 0.8634201714398299, 0.07427270291955526, 0.06498861505461086, 0.7169831945027386, 0.9224455748672037, 0.8970868000065705, 0.07727714007547236, 0.026879005243642562, 0.20471804504911428, 0.7603813101824245, 0.05849087001403265, 1.0003832980996017, 0.5172824250697555, 0.2069129700279022, 0.3103694550418533, 0.950216516252321, 0.514969704965943, 0.28609428053663494, 0.17165656832198098, 0.18395777082882495, 0.8278099687297122, 0.9564764971636961, 0.9969855550659795, 0.987202480894459, 0.41401883811773627, 0.4657711928824533, 0.10350470952943407, 0.3700164893352139, 0.18500824466760696, 0.3700164893352139, 0.9106515698619082, 0.09292362957774573, 0.7213303534789169, 0.18033258836972924, 0.7535722762211148, 0.42002470903239597, 0.5040296508388752, 0.9480176886403231, 0.344141004386085, 0.5162115065791275, 0.11471366812869502, 0.39272781516651617, 0.5890917227497743, 0.9429441041705062, 0.544186058540822, 0.8807457849913557, 0.37440705859998025, 0.5616105878999704, 0.9217124786459707, 0.7168799353777976, 0.5802070533080276, 0.9037048623572008, 0.9428700214539724, 0.9430365841316678, 0.24552339374904947, 0.7365701812471483, 0.12276169687452473, 0.9968517412808875, 0.680412966062445, 0.22680432202081496, 0.8812898999048269, 0.9426039908697205, 0.6664830892214827, 0.19602443800631844, 0.15681955040505477, 0.8259539852762646, 0.9429980867533763, 0.6734387578055059, 0.17722072573829104, 0.14177658059063283, 0.8514300375679303, 0.13443632172125217, 0.8335088802079721, 0.13891814670132868, 0.8690082759751209, 0.09028657412728529, 0.045143287063642644, 0.9384272447010618, 0.754569119089723, 0.9217379215892307, 0.9572644636782958, 0.521854130999859, 0.4638703386665413, 0.22119783371311158, 0.6635935011393347, 0.11059891685655579, 0.97895233558469, 0.6827744264588259, 0.2515484729058832, 0.035935496129411895, 0.2685351938745671, 0.8056055816237012, 0.8044202024708341, 0.12974519394690873, 0.07784711636814523, 0.0430035102574584, 0.7740631846342511, 0.1720140410298336, 0.9371031950522207, 0.2549724651010733, 0.6374311627526832, 0.12748623255053665, 0.7546607007016566, 0.9147018025765747, 0.05380598838685734], \"Term\": [\"additional\", \"adult\", \"adult\", \"ago\", \"along\", \"along\", \"amazon\", \"amuse\", \"answer\", \"answer\", \"appear\", \"apple\", \"apple\", \"apple\", \"apples\", \"appropriate\", \"audience\", \"awesome\", \"awesome\", \"backstory\", \"become\", \"bed\", \"best\", \"best\", \"best\", \"beverage\", \"bizarre\", \"black\", \"black\", \"blank\", \"blank\", \"blip\", \"bottom\", \"bought\", \"box\", \"box\", \"boy\", \"burn\", \"buy\", \"buy\", \"buy\", \"buzz\", \"card\", \"card\", \"card\", \"choose\", \"choose\", \"citizen\", \"city\", \"code\", \"combine\", \"combine\", \"combine\", \"completely\", \"console\", \"copy\", \"copy\", \"could\", \"could\", \"countless\", \"crass\", \"cringe\", \"crude\", \"crude\", \"cry\", \"cuss\", \"czar\", \"definitely\", \"definitely\", \"definitely\", \"despite\", \"dirty\", \"downside\", \"dozen\", \"dozen\", \"draw\", \"drink\", \"drink\", \"drinking\", \"drinking\", \"durable\", \"easily\", \"easily\", \"endless\", \"enough\", \"etc\", \"even\", \"even\", \"everyone\", \"everyone\", \"everyone\", \"expansion\", \"expansion\", \"expansion\", \"extremely\", \"far\", \"fill\", \"fill\", \"first\", \"first\", \"first\", \"flip\", \"friend\", \"friend\", \"friend\", \"full\", \"fun\", \"fun\", \"fun\", \"funny\", \"funny\", \"funny\", \"game\", \"game\", \"game\", \"gathering\", \"gift\", \"give\", \"give\", \"give\", \"good\", \"good\", \"good\", \"grab\", \"great\", \"great\", \"great\", \"group\", \"group\", \"group\", \"guarantee\", \"guarantee\", \"help\", \"hilarious\", \"hilarious\", \"hilarious\", \"hour\", \"hour\", \"however\", \"however\", \"however\", \"humanity\", \"humanity\", \"humanity\", \"humor\", \"humor\", \"hurt\", \"icebreaker\", \"icebreaker\", \"idea\", \"idea\", \"idea\", \"imagine\", \"imagine\", \"immensely\", \"indeed\", \"inner\", \"interesting\", \"investment\", \"investment\", \"involve\", \"involve\", \"involve\", \"issue\", \"judge\", \"kid\", \"know\", \"know\", \"know\", \"laugh\", \"laugh\", \"laugh\", \"laughing\", \"laughter\", \"law\", \"lay\", \"like\", \"like\", \"like\", \"likely\", \"literally\", \"literally\", \"live\", \"live\", \"lot\", \"lot\", \"lot\", \"love\", \"love\", \"many\", \"many\", \"many\", \"master\", \"may\", \"may\", \"mind\", \"mind\", \"money\", \"month\", \"much\", \"much\", \"much\", \"name\", \"need\", \"neighbor\", \"night\", \"night\", \"notice\", \"obviously\", \"obviously\", \"offend\", \"offend\", \"pack\", \"pack\", \"particular\", \"party\", \"party\", \"party\", \"past\", \"people\", \"people\", \"people\", \"perhaps\", \"pile\", \"play\", \"play\", \"play\", \"player\", \"player\", \"player\", \"point\", \"print\", \"print\", \"print\", \"probably\", \"purchase\", \"purchase\", \"purchase\", \"question\", \"question\", \"quiet\", \"rando\", \"raunchy\", \"read\", \"read\", \"read\", \"real\", \"real\", \"real\", \"really\", \"really\", \"reference\", \"reference\", \"remind\", \"review\", \"review\", \"right\", \"round\", \"round\", \"round\", \"rule\", \"rule\", \"semi\", \"senior\", \"sensitive\", \"several\", \"several\", \"similar\", \"slight\", \"slow\", \"small\", \"soon\", \"stack\", \"still\", \"still\", \"still\", \"stock\", \"stranger\", \"stranger\", \"submit\", \"support\", \"take\", \"take\", \"take\", \"ten\", \"tend\", \"thing\", \"thing\", \"thing\", \"think\", \"think\", \"though\", \"though\", \"time\", \"time\", \"time\", \"totally\", \"toy\", \"twisted\", \"typos\", \"use\", \"use\", \"usually\", \"usually\", \"usually\", \"wait\", \"way\", \"way\", \"way\", \"website\", \"website\", \"well\", \"well\", \"well\", \"white\", \"white\", \"white\", \"whole\", \"win\", \"win\", \"win\", \"wit\", \"year\", \"year\"]}, \"R\": 30, \"lambda.step\": 0.01, \"plot.opts\": {\"xlab\": \"PC1\", \"ylab\": \"PC2\"}, \"topic.order\": [3, 1, 2, 4]};\n",
       "\n",
       "function LDAvis_load_lib(url, callback){\n",
       "  var s = document.createElement('script');\n",
       "  s.src = url;\n",
       "  s.async = true;\n",
       "  s.onreadystatechange = s.onload = callback;\n",
       "  s.onerror = function(){console.warn(\"failed to load library \" + url);};\n",
       "  document.getElementsByTagName(\"head\")[0].appendChild(s);\n",
       "}\n",
       "\n",
       "if(typeof(LDAvis) !== \"undefined\"){\n",
       "   // already loaded: just create the visualization\n",
       "   !function(LDAvis){\n",
       "       new LDAvis(\"#\" + \"ldavis_el2322015895847120807046056278\", ldavis_el2322015895847120807046056278_data);\n",
       "   }(LDAvis);\n",
       "}else if(typeof define === \"function\" && define.amd){\n",
       "   // require.js is available: use it to load d3/LDAvis\n",
       "   require.config({paths: {d3: \"https://d3js.org/d3.v5\"}});\n",
       "   require([\"d3\"], function(d3){\n",
       "      window.d3 = d3;\n",
       "      LDAvis_load_lib(\"https://cdn.jsdelivr.net/gh/bmabey/pyLDAvis@3.3.1/pyLDAvis/js/ldavis.v3.0.0.js\", function(){\n",
       "        new LDAvis(\"#\" + \"ldavis_el2322015895847120807046056278\", ldavis_el2322015895847120807046056278_data);\n",
       "      });\n",
       "    });\n",
       "}else{\n",
       "    // require.js not available: dynamically load d3 & LDAvis\n",
       "    LDAvis_load_lib(\"https://d3js.org/d3.v5.js\", function(){\n",
       "         LDAvis_load_lib(\"https://cdn.jsdelivr.net/gh/bmabey/pyLDAvis@3.3.1/pyLDAvis/js/ldavis.v3.0.0.js\", function(){\n",
       "                 new LDAvis(\"#\" + \"ldavis_el2322015895847120807046056278\", ldavis_el2322015895847120807046056278_data);\n",
       "            })\n",
       "         });\n",
       "}\n",
       "</script>"
      ],
      "text/plain": [
       "PreparedData(topic_coordinates=                x           y  topics  cluster       Freq\n",
       "topic                                                    \n",
       "2      269.562408 -124.803398       1        1  65.115543\n",
       "0        1.782994 -295.079681       2        1  22.456542\n",
       "1      220.811432 -343.832123       3        1  10.443412\n",
       "3       50.533993  -76.050934       4        1   1.984502, topic_info=         Term        Freq       Total Category  logprob  loglift\n",
       "230      card  264.000000  264.000000  Default  30.0000  30.0000\n",
       "637      game  535.000000  535.000000  Default  29.0000  29.0000\n",
       "1177   player   34.000000   34.000000  Default  28.0000  28.0000\n",
       "74     answer   32.000000   32.000000  Default  27.0000  27.0000\n",
       "1135    party   57.000000   57.000000  Default  26.0000  26.0000\n",
       "...       ...         ...         ...      ...      ...      ...\n",
       "1392   senior    0.396743    1.837607   Topic4  -6.1038   2.3869\n",
       "274      city    0.396322    1.839235   Topic4  -6.1049   2.3849\n",
       "273   citizen    0.396171    1.838200   Topic4  -6.1053   2.3851\n",
       "896       law    0.396144    1.837677   Topic4  -6.1054   2.3853\n",
       "1066   notice    0.396022    1.838188   Topic4  -6.1057   2.3847\n",
       "\n",
       "[273 rows x 6 columns], token_table=      Topic      Freq        Term\n",
       "term                             \n",
       "28        2  0.825853  additional\n",
       "33        1  0.929170       adult\n",
       "33        2  0.060929       adult\n",
       "43        3  0.957110         ago\n",
       "54        2  0.276131       along\n",
       "...     ...       ...         ...\n",
       "1742      2  0.637431         win\n",
       "1742      3  0.127486         win\n",
       "1751      4  0.754661         wit\n",
       "1773      1  0.914702        year\n",
       "1773      3  0.053806        year\n",
       "\n",
       "[324 rows x 3 columns], R=30, lambda_step=0.01, plot_opts={'xlab': 'PC1', 'ylab': 'PC2'}, topic_order=[3, 1, 2, 4])"
      ]
     },
     "execution_count": 21,
     "metadata": {},
     "output_type": "execute_result"
    }
   ],
   "source": [
    "#define a Bag-of-Words vectorizer\n",
    "bow_vectorizer_pos = CountVectorizer()\n",
    "\n",
    "#vectorize data\n",
    "bow_pos_corpus = bow_vectorizer_pos.fit_transform(normalized_pos_reviews)\n",
    "\n",
    "lda_pos = LatentDirichletAllocation(n_components=4, max_iter=100,\n",
    "                                           doc_topic_prior = 0.25,\n",
    "                                           topic_word_prior = 0.25).fit(bow_pos_corpus)\n",
    "\n",
    "#prepare to display result in the Jupyter notebook\n",
    "pyLDAvis.enable_notebook()\n",
    "\n",
    "#run the visualization [mds is a function to use for visualizing the \"distance\" between topics]\n",
    "pyLDAvis.sklearn.prepare(lda_pos, bow_pos_corpus, bow_vectorizer_pos, mds='tsne')"
   ]
  },
  {
   "cell_type": "markdown",
   "metadata": {},
   "source": [
    "### Negative Reviews Topic Modeling"
   ]
  },
  {
   "cell_type": "code",
   "execution_count": 22,
   "metadata": {},
   "outputs": [
    {
     "name": "stderr",
     "output_type": "stream",
     "text": [
      "C:\\Users\\13159\\anaconda3\\lib\\site-packages\\sklearn\\metrics\\pairwise.py:57: DeprecationWarning: `np.float` is a deprecated alias for the builtin `float`. To silence this warning, use `float` by itself. Doing this will not modify any behavior and is safe. If you specifically wanted the numpy scalar type, use `np.float64` here.\n",
      "Deprecated in NumPy 1.20; for more details and guidance: https://numpy.org/devdocs/release/1.20.0-notes.html#deprecations\n",
      "  dtype = np.float\n",
      "C:\\Users\\13159\\anaconda3\\lib\\site-packages\\sklearn\\manifold\\_t_sne.py:349: DeprecationWarning: `np.float` is a deprecated alias for the builtin `float`. To silence this warning, use `float` by itself. Doing this will not modify any behavior and is safe. If you specifically wanted the numpy scalar type, use `np.float64` here.\n",
      "Deprecated in NumPy 1.20; for more details and guidance: https://numpy.org/devdocs/release/1.20.0-notes.html#deprecations\n",
      "  error = np.finfo(np.float).max\n",
      "C:\\Users\\13159\\anaconda3\\lib\\site-packages\\sklearn\\manifold\\_t_sne.py:350: DeprecationWarning: `np.float` is a deprecated alias for the builtin `float`. To silence this warning, use `float` by itself. Doing this will not modify any behavior and is safe. If you specifically wanted the numpy scalar type, use `np.float64` here.\n",
      "Deprecated in NumPy 1.20; for more details and guidance: https://numpy.org/devdocs/release/1.20.0-notes.html#deprecations\n",
      "  best_error = np.finfo(np.float).max\n",
      "C:\\Users\\13159\\anaconda3\\lib\\site-packages\\sklearn\\manifold\\_t_sne.py:349: DeprecationWarning: `np.float` is a deprecated alias for the builtin `float`. To silence this warning, use `float` by itself. Doing this will not modify any behavior and is safe. If you specifically wanted the numpy scalar type, use `np.float64` here.\n",
      "Deprecated in NumPy 1.20; for more details and guidance: https://numpy.org/devdocs/release/1.20.0-notes.html#deprecations\n",
      "  error = np.finfo(np.float).max\n",
      "C:\\Users\\13159\\anaconda3\\lib\\site-packages\\sklearn\\manifold\\_t_sne.py:350: DeprecationWarning: `np.float` is a deprecated alias for the builtin `float`. To silence this warning, use `float` by itself. Doing this will not modify any behavior and is safe. If you specifically wanted the numpy scalar type, use `np.float64` here.\n",
      "Deprecated in NumPy 1.20; for more details and guidance: https://numpy.org/devdocs/release/1.20.0-notes.html#deprecations\n",
      "  best_error = np.finfo(np.float).max\n"
     ]
    },
    {
     "data": {
      "text/html": [
       "\n",
       "<link rel=\"stylesheet\" type=\"text/css\" href=\"https://cdn.jsdelivr.net/gh/bmabey/pyLDAvis@3.3.1/pyLDAvis/js/ldavis.v1.0.0.css\">\n",
       "\n",
       "\n",
       "<div id=\"ldavis_el2322015895847125286781757952\"></div>\n",
       "<script type=\"text/javascript\">\n",
       "\n",
       "var ldavis_el2322015895847125286781757952_data = {\"mdsDat\": {\"x\": [269.5624084472656, 1.782994270324707, 220.81143188476562, 50.533992767333984], \"y\": [-124.80339813232422, -295.0796813964844, -343.8321228027344, -76.05093383789062], \"topics\": [1, 2, 3, 4], \"cluster\": [1, 1, 1, 1], \"Freq\": [29.606400727959148, 28.201496712809664, 27.553682834910063, 14.638419724321125]}, \"tinfo\": {\"Term\": [\"need\", \"offend\", \"people\", \"probably\", \"mind\", \"dirty\", \"apple\", \"pack\", \"group\", \"game\", \"laugh\", \"everyone\", \"pc\", \"time\", \"good\", \"large\", \"enough\", \"much\", \"yet\", \"baby\", \"cry\", \"right\", \"loud\", \"means\", \"even\", \"might\", \"thing\", \"wildly\", \"unapologetic\", \"avoid\", \"pack\", \"quite\", \"able\", \"amazon\", \"booster\", \"bought\", \"brother\", \"christmas\", \"combination\", \"constantly\", \"crazy\", \"directly\", \"email\", \"guilty\", \"high\", \"hilarious\", \"holiday\", \"impossible\", \"let\", \"limited\", \"list\", \"many\", \"order\", \"patient\", \"pay\", \"price\", \"put\", \"restock\", \"seller\", \"site\", \"laugh\", \"ever\", \"card\", \"offensive\", \"game\", \"play\", \"feel\", \"buy\", \"gift\", \"hurt\", \"love\", \"night\", \"like\", \"miss\", \"take\", \"anyone\", \"anyway\", \"awesome\", \"great\", \"life\", \"offense\", \"perfect\", \"scenario\", \"seriously\", \"swear\", \"want\", \"wrong\", \"family\", \"laugher\", \"laughter\", \"lead\", \"long\", \"situation\", \"uncomfortable\", \"upon\", \"word\", \"top\", \"whole\", \"another\", \"may\", \"never\", \"prelude\", \"purchase\", \"really\", \"apple\", \"game\", \"lot\", \"crude\", \"play\", \"hour\", \"know\", \"love\", \"like\", \"people\", \"card\", \"offend\", \"friend\", \"best\", \"people\", \"offend\", \"bitingly\", \"carefully\", \"choose\", \"coarse\", \"crowd\", \"heads\", \"humor\", \"mean\", \"natured\", \"others\", \"playing\", \"sarcastic\", \"seem\", \"snarky\", \"stop\", \"tolerate\", \"undoubtedly\", \"beginning\", \"caution\", \"clitirous\", \"horrible\", \"lord\", \"strong\", \"yeast\", \"boring\", \"dangerously\", \"half\", \"group\", \"game\", \"fun\", \"easily\", \"offensive\", \"play\", \"apple\", \"adult\", \"point\", \"dead\", \"funny\", \"way\", \"bit\", \"probably\", \"dirty\", \"mind\", \"need\", \"avoid\", \"even\", \"loud\", \"means\", \"might\", \"right\", \"thing\", \"unapologetic\", \"wildly\", \"especially\", \"inner\", \"simple\", \"table\", \"terribleness\", \"terribly\", \"much\", \"yet\", \"baby\", \"cry\", \"everyone\", \"pc\", \"time\", \"enough\", \"good\", \"large\", \"recommend\", \"game\", \"laugh\", \"bring\", \"easily\", \"fun\", \"dead\"], \"Freq\": [2.0, 6.0, 5.0, 1.0, 1.0, 1.0, 4.0, 2.0, 2.0, 19.0, 3.0, 1.0, 1.0, 1.0, 1.0, 1.0, 1.0, 1.0, 1.0, 1.0, 1.0, 1.0, 1.0, 1.0, 1.0, 1.0, 1.0, 1.0, 1.0, 1.0, 2.1552279566793366, 1.4920521296281273, 0.8289283745204071, 0.8289283745204071, 0.8289283745204071, 0.8289283745204071, 0.8289283745204071, 0.8289283745204071, 0.8289283745204071, 0.8289283745204071, 0.8289283745204071, 0.8289283745204071, 0.8289283745204071, 0.8289283745204071, 0.8289283745204071, 0.8289283745204071, 0.8289283745204071, 0.8289283745204071, 0.8289283745204071, 0.8289283745204071, 0.8289283745204071, 0.8289283745204071, 0.8289283745204071, 0.8289283745204071, 0.8289283745204071, 0.8289283745204071, 0.8289283745204071, 0.8289283745204071, 0.8289283745204071, 0.8289283745204071, 2.15973762347491, 1.4927310181679148, 2.8232478906336564, 1.4917868442783182, 3.4698022845646737, 2.1517303434299584, 0.8294963020417454, 0.829476505288212, 0.8293012829631815, 0.829288323757253, 0.8292841640887089, 0.8291196291984747, 0.8290567589438603, 0.8289782749729816, 1.4500385607950066, 1.4500318490801503, 0.805563446121581, 0.805563446121581, 0.805563446121581, 0.805563446121581, 0.805563446121581, 0.805563446121581, 0.805563446121581, 0.805563446121581, 0.805563446121581, 0.805563446121581, 0.805563446121581, 0.8055519604408733, 0.8055519604408733, 0.8055519604408733, 0.8055519604408733, 0.8055519604408733, 0.8055519604408733, 0.8055519604408733, 0.8055519604408733, 0.8055519604408733, 0.8055485067064087, 0.8055485067064087, 0.8055419578860866, 0.8055419578860866, 0.8055419578860866, 0.8055419578860866, 0.8055221414223127, 0.8055221414223127, 2.739678823999285, 7.900562574899481, 1.4517616159123168, 1.4506853033111426, 4.035546924418569, 1.4507834347948345, 1.4500870719272552, 1.4496808826399121, 1.4500631974286784, 1.4485471558447882, 1.44951147029245, 1.4447608889371308, 0.8057180752961577, 1.455324847267095, 3.397338431832086, 4.049383789039984, 0.8085166103050458, 0.8085166103050458, 0.8085166103050458, 0.8085166103050458, 0.8085166103050458, 0.8085166103050458, 0.8085166103050458, 0.8085166103050458, 0.8085166103050458, 0.8085166103050458, 0.8085166103050458, 0.8085166103050458, 0.8085166103050458, 0.8085166103050458, 0.8085166103050458, 0.8085166103050458, 0.8085166103050458, 0.8085022859277584, 0.8085022859277584, 0.8085022859277584, 0.8085022859277584, 0.8085022859277584, 0.8085022859277584, 0.8085022859277584, 0.8084989483402084, 0.8084989483402084, 0.8084989483402084, 1.4556845782821228, 5.986907881901946, 1.457664505269924, 1.457592477836775, 1.4556102579443562, 2.0998884788475767, 1.4546263878109504, 0.8092394358066474, 0.808905379263112, 0.8087849447013608, 0.8087728152201784, 0.8086400367347202, 0.8085822255981662, 1.1312266080567162, 1.1312031658754096, 1.1312031658754096, 1.640005330210242, 0.6284522196638468, 0.6284522196638468, 0.6284522196638468, 0.6284522196638468, 0.6284522196638468, 0.6284522196638468, 0.6284522196638468, 0.6284522196638468, 0.6284522196638468, 0.628449482752303, 0.628449482752303, 0.628449482752303, 0.628449482752303, 0.628449482752303, 0.628449482752303, 0.6296905997051501, 0.6293788290370859, 0.6289520240308231, 0.6288926301487018, 0.6291445415526945, 0.6288622632302227, 0.6288622632302227, 0.6284962263299394, 0.6284962263299394, 0.6284962263299394, 0.6291346881647343, 2.138287907036698, 0.6299393466835091, 0.6298953140846697, 0.6294105889196712, 0.6292807033334337, 0.6290576199176746], \"Total\": [2.0, 6.0, 5.0, 1.0, 1.0, 1.0, 4.0, 2.0, 2.0, 19.0, 3.0, 1.0, 1.0, 1.0, 1.0, 1.0, 1.0, 1.0, 1.0, 1.0, 1.0, 1.0, 1.0, 1.0, 1.0, 1.0, 1.0, 1.0, 1.0, 1.0, 2.603768099596229, 1.940611119143314, 1.2774600821895015, 1.2774600821895015, 1.2774600821895015, 1.2774600821895015, 1.2774600821895015, 1.2774600821895015, 1.2774600821895015, 1.2774600821895015, 1.2774600821895015, 1.2774600821895015, 1.2774600821895015, 1.2774600821895015, 1.2774600821895015, 1.2774600821895015, 1.2774600821895015, 1.2774600821895015, 1.2774600821895015, 1.2774600821895015, 1.2774600821895015, 1.2774600821895015, 1.2774600821895015, 1.2774600821895015, 1.2774600821895015, 1.2774600821895015, 1.2774600821895015, 1.2774600821895015, 1.2774600821895015, 1.2774600821895015, 3.750727625264109, 2.587454806068655, 5.705700931541479, 3.2342591658321713, 19.495560648402797, 8.91416977011944, 1.92429850322196, 1.9219434440894376, 1.9219350112306999, 1.9219309643840354, 2.5664096027671404, 1.9219316848096142, 3.213231563334647, 1.9219240329337224, 1.9032499955929922, 1.9032494111279212, 1.258777395272389, 1.258777395272389, 1.258777395272389, 1.258777395272389, 1.258777395272389, 1.258777395272389, 1.258777395272389, 1.258777395272389, 1.258777395272389, 1.258777395272389, 1.258777395272389, 1.258776362740723, 1.258776362740723, 1.258776362740723, 1.258776362740723, 1.258776362740723, 1.258776362740723, 1.258776362740723, 1.258776362740723, 1.258776362740723, 1.2587760942830188, 1.2587760942830188, 1.2587755606820272, 1.2587755606820272, 1.2587755606820272, 1.2587755606820272, 1.2587738622775673, 1.2587738622775673, 4.485843913405213, 19.495560648402797, 2.5500677914923835, 2.550072652364878, 8.91416977011944, 2.5663780425027776, 2.566400777278485, 2.5664096027671404, 3.213231563334647, 5.137398370225101, 5.705700931541479, 6.28733262938598, 1.9056006110935442, 1.9079617358489243, 5.137398370225101, 6.28733262938598, 1.2611344687245558, 1.2611344687245558, 1.2611344687245558, 1.2611344687245558, 1.2611344687245558, 1.2611344687245558, 1.2611344687245558, 1.2611344687245558, 1.2611344687245558, 1.2611344687245558, 1.2611344687245558, 1.2611344687245558, 1.2611344687245558, 1.2611344687245558, 1.2611344687245558, 1.2611344687245558, 1.2611344687245558, 1.2611333123135686, 1.2611333123135686, 1.2611333123135686, 1.2611333123135686, 1.2611333123135686, 1.2611333123135686, 1.2611333123135686, 1.2611329721818372, 1.2611329721818372, 1.2611329721818372, 2.4108160157192455, 19.495560648402797, 3.0549904355437363, 3.0549535298398873, 3.2342591658321713, 8.91416977011944, 4.485843913405213, 1.9055989335648535, 1.9056046956250103, 2.408216499326482, 1.924278818766758, 1.9242764248813773, 1.9056020881097702, 1.619856887872439, 1.6198638204728961, 1.6198638204728961, 2.7654107124495653, 1.1170843361039768, 1.1170843361039768, 1.1170843361039768, 1.1170843361039768, 1.1170843361039768, 1.1170843361039768, 1.1170843361039768, 1.1170843361039768, 1.1170843361039768, 1.1170851441044394, 1.1170851441044394, 1.1170851441044394, 1.1170851441044394, 1.1170851441044394, 1.1170851441044394, 1.761208488336843, 1.7612961739121846, 1.7614162295076898, 1.7614329316706328, 1.7637153411783277, 1.7637961032773228, 1.7637961032773228, 1.7639009047427439, 1.7639009047427439, 1.7639009047427439, 1.780020298312989, 19.495560648402797, 3.750727625264109, 2.42426354731459, 3.0549535298398873, 3.0549904355437363, 2.408216499326482], \"Category\": [\"Default\", \"Default\", \"Default\", \"Default\", \"Default\", \"Default\", \"Default\", \"Default\", \"Default\", \"Default\", \"Default\", \"Default\", \"Default\", \"Default\", \"Default\", \"Default\", \"Default\", \"Default\", \"Default\", \"Default\", \"Default\", \"Default\", \"Default\", \"Default\", \"Default\", \"Default\", \"Default\", \"Default\", \"Default\", \"Default\", \"Topic1\", \"Topic1\", \"Topic1\", \"Topic1\", \"Topic1\", \"Topic1\", \"Topic1\", \"Topic1\", \"Topic1\", \"Topic1\", \"Topic1\", \"Topic1\", \"Topic1\", \"Topic1\", \"Topic1\", \"Topic1\", \"Topic1\", \"Topic1\", \"Topic1\", \"Topic1\", \"Topic1\", \"Topic1\", \"Topic1\", \"Topic1\", \"Topic1\", \"Topic1\", \"Topic1\", \"Topic1\", \"Topic1\", \"Topic1\", \"Topic1\", \"Topic1\", \"Topic1\", \"Topic1\", \"Topic1\", \"Topic1\", \"Topic1\", \"Topic1\", \"Topic1\", \"Topic1\", \"Topic1\", \"Topic1\", \"Topic1\", \"Topic1\", \"Topic2\", \"Topic2\", \"Topic2\", \"Topic2\", \"Topic2\", \"Topic2\", \"Topic2\", \"Topic2\", \"Topic2\", \"Topic2\", \"Topic2\", \"Topic2\", \"Topic2\", \"Topic2\", \"Topic2\", \"Topic2\", \"Topic2\", \"Topic2\", \"Topic2\", \"Topic2\", \"Topic2\", \"Topic2\", \"Topic2\", \"Topic2\", \"Topic2\", \"Topic2\", \"Topic2\", \"Topic2\", \"Topic2\", \"Topic2\", \"Topic2\", \"Topic2\", \"Topic2\", \"Topic2\", \"Topic2\", \"Topic2\", \"Topic2\", \"Topic2\", \"Topic2\", \"Topic2\", \"Topic2\", \"Topic2\", \"Topic2\", \"Topic3\", \"Topic3\", \"Topic3\", \"Topic3\", \"Topic3\", \"Topic3\", \"Topic3\", \"Topic3\", \"Topic3\", \"Topic3\", \"Topic3\", \"Topic3\", \"Topic3\", \"Topic3\", \"Topic3\", \"Topic3\", \"Topic3\", \"Topic3\", \"Topic3\", \"Topic3\", \"Topic3\", \"Topic3\", \"Topic3\", \"Topic3\", \"Topic3\", \"Topic3\", \"Topic3\", \"Topic3\", \"Topic3\", \"Topic3\", \"Topic3\", \"Topic3\", \"Topic3\", \"Topic3\", \"Topic3\", \"Topic3\", \"Topic3\", \"Topic3\", \"Topic3\", \"Topic3\", \"Topic3\", \"Topic3\", \"Topic3\", \"Topic4\", \"Topic4\", \"Topic4\", \"Topic4\", \"Topic4\", \"Topic4\", \"Topic4\", \"Topic4\", \"Topic4\", \"Topic4\", \"Topic4\", \"Topic4\", \"Topic4\", \"Topic4\", \"Topic4\", \"Topic4\", \"Topic4\", \"Topic4\", \"Topic4\", \"Topic4\", \"Topic4\", \"Topic4\", \"Topic4\", \"Topic4\", \"Topic4\", \"Topic4\", \"Topic4\", \"Topic4\", \"Topic4\", \"Topic4\", \"Topic4\", \"Topic4\", \"Topic4\", \"Topic4\", \"Topic4\", \"Topic4\"], \"logprob\": [30.0, 29.0, 28.0, 27.0, 26.0, 25.0, 24.0, 23.0, 22.0, 21.0, 20.0, 19.0, 18.0, 17.0, 16.0, 15.0, 14.0, 13.0, 12.0, 11.0, 10.0, 9.0, 8.0, 7.0, 6.0, 5.0, 4.0, 3.0, 2.0, 1.0, -3.8468, -4.2146, -4.8023, -4.8023, -4.8023, -4.8023, -4.8023, -4.8023, -4.8023, -4.8023, -4.8023, -4.8023, -4.8023, -4.8023, -4.8023, -4.8023, -4.8023, -4.8023, -4.8023, -4.8023, -4.8023, -4.8023, -4.8023, -4.8023, -4.8023, -4.8023, -4.8023, -4.8023, -4.8023, -4.8023, -3.8447, -4.2141, -3.5768, -4.2147, -3.3706, -3.8484, -4.8016, -4.8017, -4.8019, -4.8019, -4.8019, -4.8021, -4.8022, -4.8023, -4.1945, -4.1945, -4.7823, -4.7823, -4.7823, -4.7823, -4.7823, -4.7823, -4.7823, -4.7823, -4.7823, -4.7823, -4.7823, -4.7823, -4.7823, -4.7823, -4.7823, -4.7823, -4.7823, -4.7823, -4.7823, -4.7823, -4.7823, -4.7823, -4.7823, -4.7823, -4.7823, -4.7823, -4.7824, -4.7824, -3.5582, -2.4992, -4.1933, -4.1941, -3.1709, -4.194, -4.1945, -4.1947, -4.1945, -4.1955, -4.1949, -4.1981, -4.7821, -4.1676, -3.3199, -3.1443, -4.7554, -4.7554, -4.7554, -4.7554, -4.7554, -4.7554, -4.7554, -4.7554, -4.7554, -4.7554, -4.7554, -4.7554, -4.7554, -4.7554, -4.7554, -4.7554, -4.7554, -4.7554, -4.7554, -4.7554, -4.7554, -4.7554, -4.7554, -4.7554, -4.7554, -4.7554, -4.7554, -4.1674, -2.7533, -4.166, -4.1661, -4.1674, -3.801, -4.1681, -4.7545, -4.7549, -4.7551, -4.7551, -4.7552, -4.7553, -3.7871, -3.7871, -3.7871, -3.4157, -4.3749, -4.3749, -4.3749, -4.3749, -4.3749, -4.3749, -4.3749, -4.3749, -4.3749, -4.3749, -4.3749, -4.3749, -4.3749, -4.3749, -4.3749, -4.3729, -4.3734, -4.3741, -4.3742, -4.3738, -4.3742, -4.3742, -4.3748, -4.3748, -4.3748, -4.3738, -3.1504, -4.3725, -4.3726, -4.3733, -4.3735, -4.3739], \"loglift\": [30.0, 29.0, 28.0, 27.0, 26.0, 25.0, 24.0, 23.0, 22.0, 21.0, 20.0, 19.0, 18.0, 17.0, 16.0, 15.0, 14.0, 13.0, 12.0, 11.0, 10.0, 9.0, 8.0, 7.0, 6.0, 5.0, 4.0, 3.0, 2.0, 1.0, 1.0281, 0.9543, 0.7847, 0.7847, 0.7847, 0.7847, 0.7847, 0.7847, 0.7847, 0.7847, 0.7847, 0.7847, 0.7847, 0.7847, 0.7847, 0.7847, 0.7847, 0.7847, 0.7847, 0.7847, 0.7847, 0.7847, 0.7847, 0.7847, 0.7847, 0.7847, 0.7847, 0.7847, 0.7847, 0.7847, 0.6652, 0.6671, 0.5136, 0.4434, -0.5089, -0.2042, 0.3757, 0.3769, 0.3767, 0.3767, 0.0875, 0.3765, -0.1376, 0.3763, 0.9938, 0.9938, 0.8194, 0.8194, 0.8194, 0.8194, 0.8194, 0.8194, 0.8194, 0.8194, 0.8194, 0.8194, 0.8194, 0.8194, 0.8194, 0.8194, 0.8194, 0.8194, 0.8194, 0.8194, 0.8194, 0.8194, 0.8194, 0.8194, 0.8194, 0.8194, 0.8194, 0.8194, 0.8194, 0.8194, 0.7727, 0.3625, 0.7025, 0.7017, 0.4733, 0.6954, 0.6949, 0.6946, 0.4701, -0.0002, -0.1044, -0.2048, 0.405, 1.0182, 0.8755, 0.8491, 0.8445, 0.8445, 0.8445, 0.8445, 0.8445, 0.8445, 0.8445, 0.8445, 0.8445, 0.8445, 0.8445, 0.8445, 0.8445, 0.8445, 0.8445, 0.8445, 0.8445, 0.8445, 0.8445, 0.8445, 0.8445, 0.8445, 0.8445, 0.8445, 0.8444, 0.8444, 0.8444, 0.7845, 0.1084, 0.5491, 0.5491, 0.4907, -0.1567, 0.1629, 0.4326, 0.4322, 0.1979, 0.4222, 0.4221, 0.4318, 1.5625, 1.5625, 1.5625, 1.399, 1.3463, 1.3463, 1.3463, 1.3463, 1.3463, 1.3463, 1.3463, 1.3463, 1.3463, 1.3463, 1.3463, 1.3463, 1.3463, 1.3463, 1.3463, 0.893, 0.8924, 0.8917, 0.8916, 0.8907, 0.8902, 0.8902, 0.8896, 0.8896, 0.8896, 0.8815, -0.2887, 0.1374, 0.5738, 0.3418, 0.3416, 0.5791]}, \"token.table\": {\"Topic\": [1, 2, 3, 1, 2, 2, 2, 2, 3, 4, 2, 2, 4, 3, 3, 2, 3, 3, 1, 3, 1, 1, 2, 4, 1, 1, 2, 1, 2, 3, 4, 3, 3, 3, 1, 3, 3, 1, 1, 1, 3, 2, 3, 2, 4, 3, 2, 3, 4, 1, 4, 2, 3, 4, 1, 3, 4, 4, 4, 1, 3, 3, 4, 2, 1, 3, 2, 3, 2, 3, 4, 1, 3, 1, 2, 3, 4, 1, 2, 3, 4, 2, 3, 4, 1, 3, 3, 1, 1, 1, 3, 1, 2, 3, 1, 2, 1, 4, 1, 2, 3, 4, 1, 2, 4, 2, 2, 2, 1, 2, 1, 2, 3, 1, 1, 2, 3, 2, 3, 4, 1, 2, 1, 2, 3, 4, 4, 4, 1, 2, 2, 4, 3, 2, 4, 2, 1, 2, 2, 3, 4, 2, 1, 3, 1, 3, 1, 1, 1, 3, 4, 2, 3, 2, 1, 2, 3, 4, 3, 2, 3, 2, 1, 4, 2, 1, 1, 2, 1, 4, 1, 4, 3, 2, 3, 1, 2, 4, 1, 2, 3, 3, 3, 2, 4, 2, 4, 4, 4, 3, 4, 3, 2, 4, 2, 3, 2, 2, 1, 3, 2, 4, 2, 2, 3, 2, 4], \"Freq\": [0.782803325083983, 0.5247693952731565, 0.5247693952731565, 0.782803325083983, 0.7944227956397422, 0.5254172123491533, 0.7944216378175494, 0.6687704828594212, 0.22292349428647376, 0.8951875589695147, 0.7944216378175494, 0.5677249835943073, 0.5677249835943073, 0.7929375825982143, 0.5241195256754256, 0.5247685265668097, 0.5247685265668097, 0.7929368555054614, 0.782803325083983, 0.7929377964561015, 0.782803325083983, 0.41249640580856894, 0.41249640580856894, 0.41249640580856894, 0.782803325083983, 0.5203066734743444, 0.5203066734743444, 0.5257899136310858, 0.17526330454369526, 0.17526330454369526, 0.17526330454369526, 0.7929368555054614, 0.7929375825982143, 0.7929368555054614, 0.782803325083983, 0.7929375825982143, 0.7929368555054614, 0.782803325083983, 0.782803325083983, 0.782803325083983, 0.7929368555054614, 0.3921456900738194, 0.3921456900738194, 0.5677196003435391, 0.5677196003435391, 0.7929377964561015, 0.41524505802517137, 0.41524505802517137, 0.41524505802517137, 0.782803325083983, 0.6173358447551871, 0.3273372214118134, 0.3273372214118134, 0.3273372214118134, 0.782803325083983, 0.5669252718852962, 0.5669252718852962, 0.8951869114701138, 0.8951875589695147, 0.38648018031255466, 0.38648018031255466, 0.5669849190810496, 0.5669849190810496, 0.7944222894547437, 0.5196698944190022, 0.5196698944190022, 0.5247689333108169, 0.5247689333108169, 0.32733326702609367, 0.32733326702609367, 0.32733326702609367, 0.5196752103943467, 0.5196752103943467, 0.15388118629180225, 0.4103498301114727, 0.3077623725836045, 0.10258745752786817, 0.5203089564197365, 0.5203089564197365, 0.5669252718852962, 0.5669252718852962, 0.7944216378175494, 0.41479731073615705, 0.41479731073615705, 0.782803325083983, 0.7929377964561015, 0.7929368555054614, 0.782803325083983, 0.782803325083983, 0.782803325083983, 0.7929375825982143, 0.38965420660503397, 0.38965420660503397, 0.7929368555054614, 0.520310051990079, 0.520310051990079, 0.782803325083983, 0.8951869114701138, 0.3896507548055064, 0.3896507548055064, 0.5669252718852962, 0.5669252718852962, 0.5332298689268777, 0.26661493446343887, 0.26661493446343887, 0.7944222894547437, 0.7944222894547437, 0.7944222894547437, 0.782803325083983, 0.7944216378175494, 0.3112131759848064, 0.3112131759848064, 0.3112131759848064, 0.782803325083983, 0.782803325083983, 0.7944222894547437, 0.7929375825982143, 0.3921464375716722, 0.3921464375716722, 0.8951875589695147, 0.3896494148563758, 0.3896494148563758, 0.782803325083983, 0.7944227956397422, 0.7929368555054614, 0.8951875589695147, 0.8951875589695147, 0.6173358447551871, 0.5203119284967519, 0.5203119284967519, 0.5677919488931871, 0.5677919488931871, 0.7929368555054614, 0.36160993934756724, 0.7232198786951345, 0.7944227956397422, 0.5203098569547021, 0.5203098569547021, 0.15904995948936454, 0.6361998379574582, 0.15904995948936454, 0.7944216378175494, 0.30918981711927873, 0.30918981711927873, 0.782803325083983, 0.7929368555054614, 0.7681175602044373, 0.782803325083983, 0.782803325083983, 0.5669589575245645, 0.5669589575245645, 0.19465105252411713, 0.5839531575723514, 0.7944216378175494, 0.22436189253474384, 0.4487237850694877, 0.22436189253474384, 0.11218094626737192, 0.7929368555054614, 0.5247678085050135, 0.5247678085050135, 0.7944227956397422, 0.782803325083983, 0.6173384868051062, 0.794423867517114, 0.782803325083983, 0.5153015924393197, 0.794423867517114, 0.5617913463951778, 0.5617913463951778, 0.782803325083983, 0.8951875589695147, 0.7929368555054614, 0.7944216378175494, 0.7929368555054614, 0.782803325083983, 0.7944216378175494, 0.8951869114701138, 0.782803325083983, 0.7944222894547437, 0.7929368555054614, 0.7929368555054614, 0.7929375825982143, 0.7944216378175494, 0.8951869114701138, 0.5254170509998776, 0.8951869114701138, 0.8951869114701138, 0.8951875589695147, 0.5669589575245645, 0.5669589575245645, 0.7929368555054614, 0.7944224588802554, 0.8951875589695147, 0.7944222894547437, 0.7929368555054614, 0.7944222894547437, 0.7944216378175494, 0.519675856893401, 0.519675856893401, 0.7944224588802554, 0.8951875589695147, 0.7944222894547437, 0.7944216378175494, 0.7929375825982143, 0.5677636815498234, 0.5677636815498234], \"Term\": [\"able\", \"adult\", \"adult\", \"amazon\", \"another\", \"anyone\", \"anyway\", \"apple\", \"apple\", \"avoid\", \"awesome\", \"baby\", \"baby\", \"beginning\", \"best\", \"bit\", \"bit\", \"bitingly\", \"booster\", \"boring\", \"bought\", \"bring\", \"bring\", \"bring\", \"brother\", \"buy\", \"buy\", \"card\", \"card\", \"card\", \"card\", \"carefully\", \"caution\", \"choose\", \"christmas\", \"clitirous\", \"coarse\", \"combination\", \"constantly\", \"crazy\", \"crowd\", \"crude\", \"crude\", \"cry\", \"cry\", \"dangerously\", \"dead\", \"dead\", \"dead\", \"directly\", \"dirty\", \"easily\", \"easily\", \"easily\", \"email\", \"enough\", \"enough\", \"especially\", \"even\", \"ever\", \"ever\", \"everyone\", \"everyone\", \"family\", \"feel\", \"feel\", \"friend\", \"friend\", \"fun\", \"fun\", \"fun\", \"funny\", \"funny\", \"game\", \"game\", \"game\", \"game\", \"gift\", \"gift\", \"good\", \"good\", \"great\", \"group\", \"group\", \"guilty\", \"half\", \"heads\", \"high\", \"hilarious\", \"holiday\", \"horrible\", \"hour\", \"hour\", \"humor\", \"hurt\", \"hurt\", \"impossible\", \"inner\", \"know\", \"know\", \"large\", \"large\", \"laugh\", \"laugh\", \"laugh\", \"laugher\", \"laughter\", \"lead\", \"let\", \"life\", \"like\", \"like\", \"like\", \"limited\", \"list\", \"long\", \"lord\", \"lot\", \"lot\", \"loud\", \"love\", \"love\", \"many\", \"may\", \"mean\", \"means\", \"might\", \"mind\", \"miss\", \"miss\", \"much\", \"much\", \"natured\", \"need\", \"need\", \"never\", \"night\", \"night\", \"offend\", \"offend\", \"offend\", \"offense\", \"offensive\", \"offensive\", \"order\", \"others\", \"pack\", \"patient\", \"pay\", \"pc\", \"pc\", \"people\", \"people\", \"perfect\", \"play\", \"play\", \"play\", \"play\", \"playing\", \"point\", \"point\", \"prelude\", \"price\", \"probably\", \"purchase\", \"put\", \"quite\", \"really\", \"recommend\", \"recommend\", \"restock\", \"right\", \"sarcastic\", \"scenario\", \"seem\", \"seller\", \"seriously\", \"simple\", \"site\", \"situation\", \"snarky\", \"stop\", \"strong\", \"swear\", \"table\", \"take\", \"terribleness\", \"terribly\", \"thing\", \"time\", \"time\", \"tolerate\", \"top\", \"unapologetic\", \"uncomfortable\", \"undoubtedly\", \"upon\", \"want\", \"way\", \"way\", \"whole\", \"wildly\", \"word\", \"wrong\", \"yeast\", \"yet\", \"yet\"]}, \"R\": 30, \"lambda.step\": 0.01, \"plot.opts\": {\"xlab\": \"PC1\", \"ylab\": \"PC2\"}, \"topic.order\": [2, 4, 1, 3]};\n",
       "\n",
       "function LDAvis_load_lib(url, callback){\n",
       "  var s = document.createElement('script');\n",
       "  s.src = url;\n",
       "  s.async = true;\n",
       "  s.onreadystatechange = s.onload = callback;\n",
       "  s.onerror = function(){console.warn(\"failed to load library \" + url);};\n",
       "  document.getElementsByTagName(\"head\")[0].appendChild(s);\n",
       "}\n",
       "\n",
       "if(typeof(LDAvis) !== \"undefined\"){\n",
       "   // already loaded: just create the visualization\n",
       "   !function(LDAvis){\n",
       "       new LDAvis(\"#\" + \"ldavis_el2322015895847125286781757952\", ldavis_el2322015895847125286781757952_data);\n",
       "   }(LDAvis);\n",
       "}else if(typeof define === \"function\" && define.amd){\n",
       "   // require.js is available: use it to load d3/LDAvis\n",
       "   require.config({paths: {d3: \"https://d3js.org/d3.v5\"}});\n",
       "   require([\"d3\"], function(d3){\n",
       "      window.d3 = d3;\n",
       "      LDAvis_load_lib(\"https://cdn.jsdelivr.net/gh/bmabey/pyLDAvis@3.3.1/pyLDAvis/js/ldavis.v3.0.0.js\", function(){\n",
       "        new LDAvis(\"#\" + \"ldavis_el2322015895847125286781757952\", ldavis_el2322015895847125286781757952_data);\n",
       "      });\n",
       "    });\n",
       "}else{\n",
       "    // require.js not available: dynamically load d3 & LDAvis\n",
       "    LDAvis_load_lib(\"https://d3js.org/d3.v5.js\", function(){\n",
       "         LDAvis_load_lib(\"https://cdn.jsdelivr.net/gh/bmabey/pyLDAvis@3.3.1/pyLDAvis/js/ldavis.v3.0.0.js\", function(){\n",
       "                 new LDAvis(\"#\" + \"ldavis_el2322015895847125286781757952\", ldavis_el2322015895847125286781757952_data);\n",
       "            })\n",
       "         });\n",
       "}\n",
       "</script>"
      ],
      "text/plain": [
       "PreparedData(topic_coordinates=                x           y  topics  cluster       Freq\n",
       "topic                                                    \n",
       "1      269.562408 -124.803398       1        1  29.606401\n",
       "3        1.782994 -295.079681       2        1  28.201497\n",
       "0      220.811432 -343.832123       3        1  27.553683\n",
       "2       50.533993  -76.050934       4        1  14.638420, topic_info=         Term      Freq     Total Category  logprob  loglift\n",
       "112      need  2.000000  2.000000  Default  30.0000  30.0000\n",
       "115    offend  6.000000  6.000000  Default  29.0000  29.0000\n",
       "130    people  5.000000  5.000000  Default  28.0000  28.0000\n",
       "141  probably  1.000000  1.000000  Default  27.0000  27.0000\n",
       "106      mind  1.000000  1.000000  Default  26.0000  26.0000\n",
       "..        ...       ...       ...      ...      ...      ...\n",
       "85      laugh  0.629939  3.750728   Topic4  -4.3725   0.1374\n",
       "17      bring  0.629895  2.424264   Topic4  -4.3726   0.5738\n",
       "44     easily  0.629411  3.054954   Topic4  -4.3733   0.3418\n",
       "57        fun  0.629281  3.054990   Topic4  -4.3735   0.3416\n",
       "39       dead  0.629058  2.408216   Topic4  -4.3739   0.5791\n",
       "\n",
       "[196 rows x 6 columns], token_table=      Topic      Freq     Term\n",
       "term                          \n",
       "0         1  0.782803     able\n",
       "1         2  0.524769    adult\n",
       "1         3  0.524769    adult\n",
       "2         1  0.782803   amazon\n",
       "3         2  0.794423  another\n",
       "...     ...       ...      ...\n",
       "200       2  0.794422     word\n",
       "202       2  0.794422    wrong\n",
       "203       3  0.792938    yeast\n",
       "204       2  0.567764      yet\n",
       "204       4  0.567764      yet\n",
       "\n",
       "[207 rows x 3 columns], R=30, lambda_step=0.01, plot_opts={'xlab': 'PC1', 'ylab': 'PC2'}, topic_order=[2, 4, 1, 3])"
      ]
     },
     "execution_count": 22,
     "metadata": {},
     "output_type": "execute_result"
    }
   ],
   "source": [
    "#define a Bag-of-Words vectorizer\n",
    "bow_vectorizer_neg = CountVectorizer()\n",
    "\n",
    "#vectorize data\n",
    "bow_neg_corpus = bow_vectorizer_neg.fit_transform(normalized_neg_reviews)\n",
    "\n",
    "lda_neg = LatentDirichletAllocation(n_components=4, max_iter=100,\n",
    "                                           doc_topic_prior = 0.25,\n",
    "                                           topic_word_prior = 0.25).fit(bow_neg_corpus)\n",
    "\n",
    "#prepare to display result in the Jupyter notebook\n",
    "pyLDAvis.enable_notebook()\n",
    "\n",
    "#run the visualization [mds is a function to use for visualizing the \"distance\" between topics]\n",
    "pyLDAvis.sklearn.prepare(lda_neg, bow_neg_corpus, bow_vectorizer_neg, mds='tsne')"
   ]
  },
  {
   "cell_type": "code",
   "execution_count": null,
   "metadata": {},
   "outputs": [],
   "source": []
  }
 ],
 "metadata": {
  "kernelspec": {
   "display_name": "Python 3",
   "language": "python",
   "name": "python3"
  },
  "language_info": {
   "codemirror_mode": {
    "name": "ipython",
    "version": 3
   },
   "file_extension": ".py",
   "mimetype": "text/x-python",
   "name": "python",
   "nbconvert_exporter": "python",
   "pygments_lexer": "ipython3",
   "version": "3.8.3"
  }
 },
 "nbformat": 4,
 "nbformat_minor": 4
}
